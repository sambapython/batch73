{
 "cells": [
  {
   "cell_type": "code",
   "execution_count": 1,
   "metadata": {},
   "outputs": [
    {
     "name": "stdout",
     "output_type": "stream",
     "text": [
      "[11, 20, 110, 1010]\n"
     ]
    }
   ],
   "source": [
    "l=[1,10,100,1000]\n",
    "#[11,20,110,1010]\n",
    "res=[]\n",
    "for i in l:\n",
    "    res.append(i+10)\n",
    "print(res)"
   ]
  },
  {
   "cell_type": "code",
   "execution_count": 2,
   "metadata": {},
   "outputs": [
    {
     "name": "stdout",
     "output_type": "stream",
     "text": [
      "[11, 20, 110, 1010]\n"
     ]
    }
   ],
   "source": [
    "#list comprehensions\n",
    "l=[1,10,100,1000]\n",
    "res=[i+10 for i in l]\n",
    "print(res)\n"
   ]
  },
  {
   "cell_type": "code",
   "execution_count": 3,
   "metadata": {},
   "outputs": [
    {
     "ename": "TypeError",
     "evalue": "can only concatenate str (not \"int\") to str",
     "output_type": "error",
     "traceback": [
      "\u001b[1;31m---------------------------------------------------------------------------\u001b[0m",
      "\u001b[1;31mTypeError\u001b[0m                                 Traceback (most recent call last)",
      "\u001b[1;32m<ipython-input-3-2603ce76e7f7>\u001b[0m in \u001b[0;36m<module>\u001b[1;34m\u001b[0m\n\u001b[0;32m      3\u001b[0m \u001b[0mres\u001b[0m\u001b[1;33m=\u001b[0m\u001b[1;33m[\u001b[0m\u001b[1;33m]\u001b[0m\u001b[1;33m\u001b[0m\u001b[1;33m\u001b[0m\u001b[0m\n\u001b[0;32m      4\u001b[0m \u001b[1;32mfor\u001b[0m \u001b[0mi\u001b[0m \u001b[1;32min\u001b[0m \u001b[0ml\u001b[0m\u001b[1;33m:\u001b[0m\u001b[1;33m\u001b[0m\u001b[1;33m\u001b[0m\u001b[0m\n\u001b[1;32m----> 5\u001b[1;33m     \u001b[0mres\u001b[0m\u001b[1;33m.\u001b[0m\u001b[0mappend\u001b[0m\u001b[1;33m(\u001b[0m\u001b[0mi\u001b[0m\u001b[1;33m+\u001b[0m\u001b[1;36m10\u001b[0m\u001b[1;33m)\u001b[0m\u001b[1;33m\u001b[0m\u001b[1;33m\u001b[0m\u001b[0m\n\u001b[0m\u001b[0;32m      6\u001b[0m \u001b[0mprint\u001b[0m\u001b[1;33m(\u001b[0m\u001b[0mres\u001b[0m\u001b[1;33m)\u001b[0m\u001b[1;33m\u001b[0m\u001b[1;33m\u001b[0m\u001b[0m\n",
      "\u001b[1;31mTypeError\u001b[0m: can only concatenate str (not \"int\") to str"
     ]
    }
   ],
   "source": [
    "l=[1,10,100,\"java\",1000,\"python\"]\n",
    "#[11,20,110,1010]\n",
    "res=[]\n",
    "for i in l:\n",
    "    res.append(i+10)\n",
    "print(res)"
   ]
  },
  {
   "cell_type": "code",
   "execution_count": 4,
   "metadata": {},
   "outputs": [
    {
     "name": "stdout",
     "output_type": "stream",
     "text": [
      "[11, 20, 110, 'java', 1010, 'python']\n"
     ]
    }
   ],
   "source": [
    "l=[1,10,100,\"java\",1000,\"python\"]\n",
    "#[11,20,110,1010]\n",
    "res=[]\n",
    "for i in l:\n",
    "    if isinstance(i, int):\n",
    "        res.append(i+10)\n",
    "    else:\n",
    "        res.append(i)\n",
    "print(res)"
   ]
  },
  {
   "cell_type": "code",
   "execution_count": 6,
   "metadata": {},
   "outputs": [
    {
     "name": "stdout",
     "output_type": "stream",
     "text": [
      "[11, 20, 110, 'pyton', 1010, 'java']\n"
     ]
    }
   ],
   "source": [
    "#list comprehensions\n",
    "l=[1,10,100,\"pyton\",1000, \"java\"]\n",
    "res=[i+10 if isinstance(i,int) else i for i in l]\n",
    "print(res)\n"
   ]
  },
  {
   "cell_type": "code",
   "execution_count": 7,
   "metadata": {},
   "outputs": [
    {
     "name": "stdout",
     "output_type": "stream",
     "text": [
      "[11, 20, 110, 1010]\n"
     ]
    }
   ],
   "source": [
    "#list comprehensions\n",
    "l=[1,10,100,\"pyton\",1000, \"java\"]\n",
    "#[11, 20, 110, 1010]\n",
    "l=[1,10,100,\"java\",1000,\"python\"]\n",
    "#[11,20,110,1010]\n",
    "res=[]\n",
    "for i in l:\n",
    "    if isinstance(i, int):\n",
    "        res.append(i+10)\n",
    "print(res)"
   ]
  },
  {
   "cell_type": "code",
   "execution_count": 8,
   "metadata": {},
   "outputs": [
    {
     "ename": "SyntaxError",
     "evalue": "invalid syntax (<ipython-input-8-c9a092ea52da>, line 3)",
     "output_type": "error",
     "traceback": [
      "\u001b[1;36m  File \u001b[1;32m\"<ipython-input-8-c9a092ea52da>\"\u001b[1;36m, line \u001b[1;32m3\u001b[0m\n\u001b[1;33m    res=[i+10 if isinstance(i,int) for i in l]\u001b[0m\n\u001b[1;37m                                   ^\u001b[0m\n\u001b[1;31mSyntaxError\u001b[0m\u001b[1;31m:\u001b[0m invalid syntax\n"
     ]
    }
   ],
   "source": [
    "#list comprehensions\n",
    "l=[1,10,100,\"pyton\",1000, \"java\"]\n",
    "res=[i+10 if isinstance(i,int) for i in l]\n",
    "print(res)\n"
   ]
  },
  {
   "cell_type": "code",
   "execution_count": 9,
   "metadata": {},
   "outputs": [
    {
     "name": "stdout",
     "output_type": "stream",
     "text": [
      "[11, 20, 110, 1010]\n"
     ]
    }
   ],
   "source": [
    "#list comprehensions\n",
    "l=[1,10,100,\"pyton\",1000, \"java\"]\n",
    "res=[i+10 for i in l if isinstance(i,int)]\n",
    "print(res)\n"
   ]
  },
  {
   "cell_type": "code",
   "execution_count": 10,
   "metadata": {},
   "outputs": [
    {
     "name": "stdout",
     "output_type": "stream",
     "text": [
      "['1-odd', '2-even', '5-odd', '6-even', '23-odd', '24-even']\n"
     ]
    }
   ],
   "source": [
    "l=[1,2,-30,-40,5,6,-10,23,24]\n",
    "#[\"1-odd\",\"2-even\",\"5-odd\",\"6-even\".....]\n",
    "print([f\"{i}-even\" if i%2==0 else f\"{i}-odd\" for i in l if i>0])"
   ]
  },
  {
   "cell_type": "code",
   "execution_count": 11,
   "metadata": {},
   "outputs": [
    {
     "name": "stdout",
     "output_type": "stream",
     "text": [
      "['1-odd', '2-even', '5-odd', '6-even', '23-odd', '24-even']\n"
     ]
    }
   ],
   "source": [
    "l=[1,2,\"cpp\",-30,-40,5,\"java\",6,-10,23,24,\"python\"]\n",
    "#[\"1-odd\",\"2-even\",\"5-odd\",\"6-even\".....]\n",
    "print([f\"{i}-even\" if i%2==0 else f\"{i}-odd\" for i in l if isinstance(i,int) and i>0])"
   ]
  },
  {
   "cell_type": "code",
   "execution_count": 1,
   "metadata": {},
   "outputs": [
    {
     "name": "stdout",
     "output_type": "stream",
     "text": [
      "[10, 20, 30, 40]\n"
     ]
    }
   ],
   "source": [
    "l=[10,20,21,30,40,11]\n",
    "print([i for i in l if i%2==0])"
   ]
  },
  {
   "cell_type": "code",
   "execution_count": 2,
   "metadata": {},
   "outputs": [
    {
     "name": "stdout",
     "output_type": "stream",
     "text": [
      "<filter object at 0x000001B55CB5A580>\n"
     ]
    }
   ],
   "source": [
    "l=[10,20,21,30,40,11]\n",
    "def fun(x):\n",
    "    print(x)\n",
    "    return x%2==0 # if it's return True, then it will add parameter to the restulted list\n",
    "res=filter(fun,l)\n",
    "print(res)"
   ]
  },
  {
   "cell_type": "code",
   "execution_count": 3,
   "metadata": {},
   "outputs": [
    {
     "name": "stdout",
     "output_type": "stream",
     "text": [
      "10\n",
      "20\n",
      "21\n",
      "30\n",
      "40\n",
      "11\n",
      "[10, 20, 30, 40]\n"
     ]
    }
   ],
   "source": [
    "l=[10,20,21,30,40,11]\n",
    "def fun(x):\n",
    "    print(x)\n",
    "    return x%2==0 # if it's return True, then it will add parameter to the restulted list\n",
    "res=filter(fun,l)\n",
    "print(list(res))"
   ]
  },
  {
   "cell_type": "code",
   "execution_count": 5,
   "metadata": {},
   "outputs": [
    {
     "name": "stdout",
     "output_type": "stream",
     "text": [
      "[10, 20, 30, 40]\n"
     ]
    }
   ],
   "source": [
    "l=[10,20,21,30,40,11]\n",
    "res=filter(lambda x:x%2==0,l)\n",
    "# above we are writing lambda function which does not have a name,  we called this as anonymous function.\n",
    "print(list(res))"
   ]
  },
  {
   "cell_type": "code",
   "execution_count": 6,
   "metadata": {},
   "outputs": [
    {
     "name": "stdout",
     "output_type": "stream",
     "text": [
      "[10, 20, 21, 30, 40, 11]\n"
     ]
    }
   ],
   "source": [
    "l=[10,20,None,21,30,40,11,None,None]\n",
    "# use filter function to remove None.\n",
    "res=filter(lambda x:x!=None,l)\n",
    "print(list(res))"
   ]
  },
  {
   "cell_type": "code",
   "execution_count": 7,
   "metadata": {},
   "outputs": [
    {
     "name": "stdout",
     "output_type": "stream",
     "text": [
      "20\n",
      "30\n",
      "31\n",
      "40\n",
      "50\n",
      "21\n"
     ]
    }
   ],
   "source": [
    "l=[10,20,21,30,40,11]\n",
    "def fun(x):\n",
    "    return x+10\n",
    "for i in l:\n",
    "    print(fun(i))"
   ]
  },
  {
   "cell_type": "code",
   "execution_count": 8,
   "metadata": {},
   "outputs": [
    {
     "name": "stdout",
     "output_type": "stream",
     "text": [
      "[20, 30, 31, 40, 50, 21]\n"
     ]
    }
   ],
   "source": [
    "l=[10,20,21,30,40,11]\n",
    "def fun(x):\n",
    "    return x+10\n",
    "print([fun(i) for i in l])"
   ]
  },
  {
   "cell_type": "code",
   "execution_count": 9,
   "metadata": {},
   "outputs": [
    {
     "name": "stdout",
     "output_type": "stream",
     "text": [
      "[20, 30, 31, 40, 50, 21]\n"
     ]
    }
   ],
   "source": [
    "l=[10,20,21,30,40,11]\n",
    "def fun(x):\n",
    "    return x+10\n",
    "print(list(map(fun,l)))"
   ]
  },
  {
   "cell_type": "code",
   "execution_count": 10,
   "metadata": {},
   "outputs": [
    {
     "name": "stdout",
     "output_type": "stream",
     "text": [
      "[None, None, None, None, None, None]\n"
     ]
    }
   ],
   "source": [
    "l=[10,20,21,30,40,11]\n",
    "def fun(x):\n",
    "    res=x+10\n",
    "print(list(map(fun,l)))"
   ]
  },
  {
   "cell_type": "code",
   "execution_count": 11,
   "metadata": {},
   "outputs": [
    {
     "name": "stdout",
     "output_type": "stream",
     "text": [
      "['hello', 'hello', 'hello', 'hello', 'hello', 'hello']\n"
     ]
    }
   ],
   "source": [
    "l=[10,20,21,30,40,11]\n",
    "def fun(x):\n",
    "    res=x+10\n",
    "    return \"hello\"\n",
    "print(list(map(fun,l)))"
   ]
  },
  {
   "cell_type": "code",
   "execution_count": 12,
   "metadata": {},
   "outputs": [
    {
     "name": "stdout",
     "output_type": "stream",
     "text": [
      "[10, 20, 21, 30, 40, 11]\n"
     ]
    }
   ],
   "source": [
    "l=[10,20,21,30,40,11]\n",
    "def fun(x):\n",
    "    res=x+10\n",
    "    return \"hello\"\n",
    "print(list(filter(fun,l)))"
   ]
  },
  {
   "cell_type": "code",
   "execution_count": 13,
   "metadata": {},
   "outputs": [
    {
     "name": "stdout",
     "output_type": "stream",
     "text": [
      "[]\n"
     ]
    }
   ],
   "source": [
    "l=[10,20,21,30,40,11]\n",
    "def fun(x):\n",
    "    res=x+10\n",
    "print(list(filter(fun,l)))"
   ]
  },
  {
   "cell_type": "code",
   "execution_count": 14,
   "metadata": {},
   "outputs": [
    {
     "data": {
      "text/plain": [
       "False"
      ]
     },
     "execution_count": 14,
     "metadata": {},
     "output_type": "execute_result"
    }
   ],
   "source": [
    "bool(None)"
   ]
  },
  {
   "cell_type": "code",
   "execution_count": null,
   "metadata": {},
   "outputs": [],
   "source": [
    "l=[10,20,30,40] # 6 spaces are allocated for this list :2 are free\n",
    "l.append(200)# 1 is free\n",
    "l.append(300)# 0 are free\n",
    "l.append(400)#"
   ]
  }
 ],
 "metadata": {
  "kernelspec": {
   "display_name": "Python 3",
   "language": "python",
   "name": "python3"
  },
  "language_info": {
   "codemirror_mode": {
    "name": "ipython",
    "version": 3
   },
   "file_extension": ".py",
   "mimetype": "text/x-python",
   "name": "python",
   "nbconvert_exporter": "python",
   "pygments_lexer": "ipython3",
   "version": "3.8.3"
  }
 },
 "nbformat": 4,
 "nbformat_minor": 4
}
