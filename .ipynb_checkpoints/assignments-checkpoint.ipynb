{
 "cells": [
  {
   "cell_type": "code",
   "execution_count": 2,
   "metadata": {},
   "outputs": [
    {
     "name": "stdout",
     "output_type": "stream",
     "text": [
      "\n",
      "FRUITS:\n",
      "    1. apple\n",
      "    2. banana\n",
      "    3. mango\n",
      "    4. ornage\n",
      "\n",
      "Enter an option:2\n",
      "we are selling only mango, banana,orange,apple.\n"
     ]
    }
   ],
   "source": [
    "\"\"\"\n",
    "FRUITS:\n",
    "    1. apple\n",
    "    2. banana\n",
    "    3. mango\n",
    "    4. ornage\n",
    "    Enter an option:\n",
    "    1: The cost of dozen apples $3\n",
    "    2: The cost of dozen banana: $4\n",
    "    3: the cost of KG mango: $5\n",
    "    4. the cost of single orange: $.5\n",
    "    any: we are sessling only mango, banana,orange,apple.\n",
    "\"\"\"  \n",
    "print(\"\"\"\n",
    "FRUITS:\n",
    "    1. apple\n",
    "    2. banana\n",
    "    3. mango\n",
    "    4. ornage\n",
    "\"\"\")\n",
    "option = input(\"Enter an option:\")\n",
    "if option == 1:\n",
    "    print(\"The cost of dozen apples $3\")\n",
    "if option==2:\n",
    "    print(\"The cost of dozen banana: $4\")\n",
    "if option == 3:\n",
    "    print(\"the cost of KG mango: $5\")\n",
    "if option == 4:\n",
    "    print(\"the cost of single orange: $.5\")\n",
    "else:\n",
    "    print(\"we are selling only mango, banana,orange,apple.\")"
   ]
  },
  {
   "cell_type": "code",
   "execution_count": 3,
   "metadata": {},
   "outputs": [
    {
     "name": "stdout",
     "output_type": "stream",
     "text": [
      "Enter an option:12\n",
      "12 <class 'str'>\n"
     ]
    }
   ],
   "source": [
    "option = input(\"Enter an option:\")\n",
    "print(option, type(option))"
   ]
  },
  {
   "cell_type": "code",
   "execution_count": 4,
   "metadata": {},
   "outputs": [
    {
     "data": {
      "text/plain": [
       "False"
      ]
     },
     "execution_count": 4,
     "metadata": {},
     "output_type": "execute_result"
    }
   ],
   "source": [
    "12==\"12\""
   ]
  },
  {
   "cell_type": "code",
   "execution_count": 5,
   "metadata": {},
   "outputs": [
    {
     "name": "stdout",
     "output_type": "stream",
     "text": [
      "\n",
      "FRUITS:\n",
      "    1. apple\n",
      "    2. banana\n",
      "    3. mango\n",
      "    4. ornage\n",
      "\n",
      "Enter an option:1\n",
      "The cost of dozen apples $3\n",
      "we are selling only mango, banana,orange,apple.\n"
     ]
    }
   ],
   "source": [
    "\"\"\"\n",
    "FRUITS:\n",
    "    1. apple\n",
    "    2. banana\n",
    "    3. mango\n",
    "    4. ornage\n",
    "    Enter an option:\n",
    "    1: The cost of dozen apples $3\n",
    "    2: The cost of dozen banana: $4\n",
    "    3: the cost of KG mango: $5\n",
    "    4. the cost of single orange: $.5\n",
    "    any: we are sessling only mango, banana,orange,apple.\n",
    "\"\"\"  \n",
    "print(\"\"\"\n",
    "FRUITS:\n",
    "    1. apple\n",
    "    2. banana\n",
    "    3. mango\n",
    "    4. ornage\n",
    "\"\"\")\n",
    "option = input(\"Enter an option:\")\n",
    "if option ==\"1\":\n",
    "    print(\"The cost of dozen apples $3\")\n",
    "if option==\"2\":\n",
    "    print(\"The cost of dozen banana: $4\")\n",
    "if option ==\"3\":\n",
    "    print(\"the cost of KG mango: $5\")\n",
    "if option ==\"4\":\n",
    "    print(\"the cost of single orange: $.5\")\n",
    "else:\n",
    "    print(\"we are selling only mango, banana,orange,apple.\")"
   ]
  },
  {
   "cell_type": "code",
   "execution_count": 6,
   "metadata": {},
   "outputs": [
    {
     "name": "stdout",
     "output_type": "stream",
     "text": [
      "\n",
      "FRUITS:\n",
      "    1. apple\n",
      "    2. banana\n",
      "    3. mango\n",
      "    4. ornage\n",
      "\n",
      "Enter an option:1\n",
      "The cost of dozen apples $3\n",
      "End\n"
     ]
    }
   ],
   "source": [
    "\"\"\"\n",
    "FRUITS:\n",
    "    1. apple\n",
    "    2. banana\n",
    "    3. mango\n",
    "    4. ornage\n",
    "    Enter an option:\n",
    "    1: The cost of dozen apples $3\n",
    "    2: The cost of dozen banana: $4\n",
    "    3: the cost of KG mango: $5\n",
    "    4. the cost of single orange: $.5\n",
    "    any: we are sessling only mango, banana,orange,apple.\n",
    "\"\"\"  \n",
    "print(\"\"\"\n",
    "FRUITS:\n",
    "    1. apple\n",
    "    2. banana\n",
    "    3. mango\n",
    "    4. ornage\n",
    "\"\"\")\n",
    "option = input(\"Enter an option:\")\n",
    "if option ==\"1\":\n",
    "    print(\"The cost of dozen apples $3\")\n",
    "elif option==\"2\":\n",
    "    print(\"The cost of dozen banana: $4\")\n",
    "elif option ==\"3\":\n",
    "    print(\"the cost of KG mango: $5\")\n",
    "elif option ==\"4\":\n",
    "    print(\"the cost of single orange: $.5\")\n",
    "else:\n",
    "    print(\"we are selling only mango, banana,orange,apple.\")\n",
    "print(\"End\")"
   ]
  },
  {
   "cell_type": "code",
   "execution_count": 7,
   "metadata": {},
   "outputs": [
    {
     "name": "stdout",
     "output_type": "stream",
     "text": [
      "\n",
      "FRUITS:\n",
      "    1. apple\n",
      "    2. banana\n",
      "    3. mango\n",
      "    4. ornage\n",
      "\n",
      "Enter an option:2\n",
      "The cost of dozen banana: $4\n",
      "End\n"
     ]
    }
   ],
   "source": [
    "\"\"\"\n",
    "FRUITS:\n",
    "    1. apple\n",
    "    2. banana\n",
    "    3. mango\n",
    "    4. ornage\n",
    "    Enter an option:\n",
    "    1: The cost of dozen apples $3\n",
    "    2: The cost of dozen banana: $4\n",
    "    3: the cost of KG mango: $5\n",
    "    4. the cost of single orange: $.5\n",
    "    any: we are sessling only mango, banana,orange,apple.\n",
    "\"\"\"  \n",
    "print(\"\"\"\n",
    "FRUITS:\n",
    "    1. apple\n",
    "    2. banana\n",
    "    3. mango\n",
    "    4. ornage\n",
    "\"\"\")\n",
    "option = input(\"Enter an option:\")\n",
    "if option ==\"1\":\n",
    "    print(\"The cost of dozen apples $3\")\n",
    "elif option==\"2\":\n",
    "    print(\"The cost of dozen banana: $4\")\n",
    "elif option ==\"3\":\n",
    "    print(\"the cost of KG mango: $5\")\n",
    "elif option ==\"4\":\n",
    "    print(\"the cost of single orange: $.5\")\n",
    "else:\n",
    "    print(\"we are selling only mango, banana,orange,apple.\")\n",
    "print(\"End\")"
   ]
  },
  {
   "cell_type": "code",
   "execution_count": 8,
   "metadata": {},
   "outputs": [
    {
     "name": "stdout",
     "output_type": "stream",
     "text": [
      "\n",
      "FRUITS:\n",
      "    1. apple\n",
      "    2. banana\n",
      "    3. mango\n",
      "    4. ornage\n",
      "\n",
      "Enter an option:3\n",
      "the cost of KG mango: $5\n",
      "End\n"
     ]
    }
   ],
   "source": [
    "\"\"\"\n",
    "FRUITS:\n",
    "    1. apple\n",
    "    2. banana\n",
    "    3. mango\n",
    "    4. ornage\n",
    "    Enter an option:\n",
    "    1: The cost of dozen apples $3\n",
    "    2: The cost of dozen banana: $4\n",
    "    3: the cost of KG mango: $5\n",
    "    4. the cost of single orange: $.5\n",
    "    any: we are sessling only mango, banana,orange,apple.\n",
    "\"\"\"  \n",
    "print(\"\"\"\n",
    "FRUITS:\n",
    "    1. apple\n",
    "    2. banana\n",
    "    3. mango\n",
    "    4. ornage\n",
    "\"\"\")\n",
    "option = input(\"Enter an option:\")\n",
    "if option ==\"1\":\n",
    "    print(\"The cost of dozen apples $3\")\n",
    "elif option==\"2\":\n",
    "    print(\"The cost of dozen banana: $4\")\n",
    "elif option ==\"3\":\n",
    "    print(\"the cost of KG mango: $5\")\n",
    "elif option ==\"4\":\n",
    "    print(\"the cost of single orange: $.5\")\n",
    "else:\n",
    "    print(\"we are selling only mango, banana,orange,apple.\")\n",
    "print(\"End\")"
   ]
  },
  {
   "cell_type": "code",
   "execution_count": 9,
   "metadata": {},
   "outputs": [
    {
     "name": "stdout",
     "output_type": "stream",
     "text": [
      "\n",
      "FRUITS:\n",
      "    1. apple\n",
      "    2. banana\n",
      "    3. mango\n",
      "    4. ornage\n",
      "\n",
      "Enter an option:4\n",
      "the cost of single orange: $.5\n",
      "End\n"
     ]
    }
   ],
   "source": [
    "\"\"\"\n",
    "FRUITS:\n",
    "    1. apple\n",
    "    2. banana\n",
    "    3. mango\n",
    "    4. ornage\n",
    "    Enter an option:\n",
    "    1: The cost of dozen apples $3\n",
    "    2: The cost of dozen banana: $4\n",
    "    3: the cost of KG mango: $5\n",
    "    4. the cost of single orange: $.5\n",
    "    any: we are sessling only mango, banana,orange,apple.\n",
    "\"\"\"  \n",
    "print(\"\"\"\n",
    "FRUITS:\n",
    "    1. apple\n",
    "    2. banana\n",
    "    3. mango\n",
    "    4. ornage\n",
    "\"\"\")\n",
    "option = input(\"Enter an option:\")\n",
    "if option ==\"1\":\n",
    "    print(\"The cost of dozen apples $3\")\n",
    "elif option==\"2\":\n",
    "    print(\"The cost of dozen banana: $4\")\n",
    "elif option ==\"3\":\n",
    "    print(\"the cost of KG mango: $5\")\n",
    "elif option ==\"4\":\n",
    "    print(\"the cost of single orange: $.5\")\n",
    "else:\n",
    "    print(\"we are selling only mango, banana,orange,apple.\")\n",
    "print(\"End\")"
   ]
  },
  {
   "cell_type": "code",
   "execution_count": 10,
   "metadata": {},
   "outputs": [
    {
     "name": "stdout",
     "output_type": "stream",
     "text": [
      "\n",
      "FRUITS:\n",
      "    1. apple\n",
      "    2. banana\n",
      "    3. mango\n",
      "    4. ornage\n",
      "\n",
      "Enter an option:5\n",
      "we are selling only mango, banana,orange,apple.\n",
      "End\n"
     ]
    }
   ],
   "source": [
    "\"\"\"\n",
    "FRUITS:\n",
    "    1. apple\n",
    "    2. banana\n",
    "    3. mango\n",
    "    4. ornage\n",
    "    Enter an option:\n",
    "    1: The cost of dozen apples $3\n",
    "    2: The cost of dozen banana: $4\n",
    "    3: the cost of KG mango: $5\n",
    "    4. the cost of single orange: $.5\n",
    "    any: we are sessling only mango, banana,orange,apple.\n",
    "\"\"\"  \n",
    "print(\"\"\"\n",
    "FRUITS:\n",
    "    1. apple\n",
    "    2. banana\n",
    "    3. mango\n",
    "    4. ornage\n",
    "\"\"\")\n",
    "option = input(\"Enter an option:\")\n",
    "if option ==\"1\":\n",
    "    print(\"The cost of dozen apples $3\")\n",
    "elif option==\"2\":\n",
    "    print(\"The cost of dozen banana: $4\")\n",
    "elif option ==\"3\":\n",
    "    print(\"the cost of KG mango: $5\")\n",
    "elif option ==\"4\":\n",
    "    print(\"the cost of single orange: $.5\")\n",
    "else:\n",
    "    print(\"we are selling only mango, banana,orange,apple.\")\n",
    "print(\"End\")"
   ]
  },
  {
   "cell_type": "code",
   "execution_count": 11,
   "metadata": {},
   "outputs": [
    {
     "name": "stdout",
     "output_type": "stream",
     "text": [
      "Odd\n"
     ]
    }
   ],
   "source": [
    "n=23\n",
    "if n%2==0:\n",
    "    print(\"Even\")\n",
    "else:\n",
    "    print(\"Odd\")\n",
    "    "
   ]
  },
  {
   "cell_type": "code",
   "execution_count": 12,
   "metadata": {},
   "outputs": [
    {
     "name": "stdout",
     "output_type": "stream",
     "text": [
      "odd\n"
     ]
    }
   ],
   "source": [
    "n=23\n",
    "print(\"even\" if n%2==0 else \"odd\")"
   ]
  },
  {
   "cell_type": "code",
   "execution_count": 13,
   "metadata": {},
   "outputs": [
    {
     "name": "stdout",
     "output_type": "stream",
     "text": [
      "else block started\n",
      "Odd\n"
     ]
    }
   ],
   "source": [
    "n=23\n",
    "if n%2==0:\n",
    "    print(\"if block started\")\n",
    "    print(\"Even\")\n",
    "else:\n",
    "    print(\"else block started\")\n",
    "    print(\"Odd\")\n",
    "    "
   ]
  },
  {
   "cell_type": "code",
   "execution_count": 14,
   "metadata": {},
   "outputs": [
    {
     "name": "stdout",
     "output_type": "stream",
     "text": [
      "else block started\n",
      "odd\n"
     ]
    }
   ],
   "source": [
    "n=23\n",
    "print(\"if block started\\neven\" if n%2==0 else \"else block started\\nodd\")"
   ]
  },
  {
   "cell_type": "code",
   "execution_count": 16,
   "metadata": {},
   "outputs": [
    {
     "name": "stdout",
     "output_type": "stream",
     "text": [
      "Enter a char:D\n",
      "it's a capital letter\n"
     ]
    }
   ],
   "source": [
    "c=input(\"Enter a char:\")\n",
    "if ord(c) in range(ord(\"A\"), ord(\"Z\")):\n",
    "    print(\"it's a capital letter\")\n",
    "else:\n",
    "    print('it\"s not a capital letter')\n",
    "    "
   ]
  },
  {
   "cell_type": "code",
   "execution_count": 17,
   "metadata": {},
   "outputs": [
    {
     "name": "stdout",
     "output_type": "stream",
     "text": [
      "Enter a char:D\n",
      "it's a capital letter\n"
     ]
    }
   ],
   "source": [
    "c=input(\"Enter a char:\")\n",
    "if ord(c)>=ord(\"A\") and ord(c)<=ord(\"Z\"):\n",
    "    print(\"it's a capital letter\")\n",
    "else:\n",
    "    print('it\"s not a capital letter')\n",
    "    "
   ]
  },
  {
   "cell_type": "code",
   "execution_count": 18,
   "metadata": {},
   "outputs": [
    {
     "name": "stdout",
     "output_type": "stream",
     "text": [
      "Enter a char:f\n",
      "it\"s not a capital letter\n"
     ]
    }
   ],
   "source": [
    "c=input(\"Enter a char:\")\n",
    "if ord(c)>=ord(\"A\") and ord(c)<=ord(\"Z\"):\n",
    "    print(\"it's a capital letter\")\n",
    "else:\n",
    "    print('it\"s not a capital letter')\n",
    "    "
   ]
  },
  {
   "cell_type": "code",
   "execution_count": 19,
   "metadata": {},
   "outputs": [
    {
     "name": "stdout",
     "output_type": "stream",
     "text": [
      "Enter a char:\n"
     ]
    },
    {
     "ename": "TypeError",
     "evalue": "ord() expected a character, but string of length 0 found",
     "output_type": "error",
     "traceback": [
      "\u001b[1;31m---------------------------------------------------------------------------\u001b[0m",
      "\u001b[1;31mTypeError\u001b[0m                                 Traceback (most recent call last)",
      "\u001b[1;32m<ipython-input-19-ebb6a741f6ac>\u001b[0m in \u001b[0;36m<module>\u001b[1;34m\u001b[0m\n\u001b[0;32m      1\u001b[0m \u001b[0mc\u001b[0m\u001b[1;33m=\u001b[0m\u001b[0minput\u001b[0m\u001b[1;33m(\u001b[0m\u001b[1;34m\"Enter a char:\"\u001b[0m\u001b[1;33m)\u001b[0m\u001b[1;33m\u001b[0m\u001b[1;33m\u001b[0m\u001b[0m\n\u001b[1;32m----> 2\u001b[1;33m \u001b[1;32mif\u001b[0m \u001b[0mord\u001b[0m\u001b[1;33m(\u001b[0m\u001b[0mc\u001b[0m\u001b[1;33m)\u001b[0m\u001b[1;33m>=\u001b[0m\u001b[0mord\u001b[0m\u001b[1;33m(\u001b[0m\u001b[1;34m\"A\"\u001b[0m\u001b[1;33m)\u001b[0m \u001b[1;32mand\u001b[0m \u001b[0mord\u001b[0m\u001b[1;33m(\u001b[0m\u001b[0mc\u001b[0m\u001b[1;33m)\u001b[0m\u001b[1;33m<=\u001b[0m\u001b[0mord\u001b[0m\u001b[1;33m(\u001b[0m\u001b[1;34m\"Z\"\u001b[0m\u001b[1;33m)\u001b[0m\u001b[1;33m:\u001b[0m\u001b[1;33m\u001b[0m\u001b[1;33m\u001b[0m\u001b[0m\n\u001b[0m\u001b[0;32m      3\u001b[0m     \u001b[0mprint\u001b[0m\u001b[1;33m(\u001b[0m\u001b[1;34m\"it's a capital letter\"\u001b[0m\u001b[1;33m)\u001b[0m\u001b[1;33m\u001b[0m\u001b[1;33m\u001b[0m\u001b[0m\n\u001b[0;32m      4\u001b[0m \u001b[1;32melse\u001b[0m\u001b[1;33m:\u001b[0m\u001b[1;33m\u001b[0m\u001b[1;33m\u001b[0m\u001b[0m\n\u001b[0;32m      5\u001b[0m     \u001b[0mprint\u001b[0m\u001b[1;33m(\u001b[0m\u001b[1;34m'it\"s not a capital letter'\u001b[0m\u001b[1;33m)\u001b[0m\u001b[1;33m\u001b[0m\u001b[1;33m\u001b[0m\u001b[0m\n",
      "\u001b[1;31mTypeError\u001b[0m: ord() expected a character, but string of length 0 found"
     ]
    }
   ],
   "source": [
    "c=input(\"Enter a char:\")\n",
    "if ord(c)>=ord(\"A\") and ord(c)<=ord(\"Z\"):\n",
    "    print(\"it's a capital letter\")\n",
    "else:\n",
    "    print('it\"s not a capital letter')\n",
    "    "
   ]
  },
  {
   "cell_type": "code",
   "execution_count": 20,
   "metadata": {},
   "outputs": [
    {
     "ename": "TypeError",
     "evalue": "ord() expected a character, but string of length 0 found",
     "output_type": "error",
     "traceback": [
      "\u001b[1;31m---------------------------------------------------------------------------\u001b[0m",
      "\u001b[1;31mTypeError\u001b[0m                                 Traceback (most recent call last)",
      "\u001b[1;32m<ipython-input-20-f207c9d5448c>\u001b[0m in \u001b[0;36m<module>\u001b[1;34m\u001b[0m\n\u001b[1;32m----> 1\u001b[1;33m \u001b[0mord\u001b[0m\u001b[1;33m(\u001b[0m\u001b[1;34m\"\"\u001b[0m\u001b[1;33m)\u001b[0m\u001b[1;33m\u001b[0m\u001b[1;33m\u001b[0m\u001b[0m\n\u001b[0m",
      "\u001b[1;31mTypeError\u001b[0m: ord() expected a character, but string of length 0 found"
     ]
    }
   ],
   "source": [
    "ord(\"\")"
   ]
  },
  {
   "cell_type": "code",
   "execution_count": 21,
   "metadata": {},
   "outputs": [
    {
     "name": "stdout",
     "output_type": "stream",
     "text": [
      "Enter a char:\n",
      "invalid string\n"
     ]
    }
   ],
   "source": [
    "c=input(\"Enter a char:\")\n",
    "if c:\n",
    "    if ord(c)>=ord(\"A\") and ord(c)<=ord(\"Z\"):\n",
    "        print(\"it's a capital letter\")\n",
    "    else:\n",
    "        print('it\"s not a capital letter')\n",
    "else:\n",
    "    print(\"invalid string\")\n"
   ]
  },
  {
   "cell_type": "code",
   "execution_count": 22,
   "metadata": {},
   "outputs": [
    {
     "name": "stdout",
     "output_type": "stream",
     "text": [
      "Enter a char:S\n",
      "it's a capital letter\n"
     ]
    }
   ],
   "source": [
    "c=input(\"Enter a char:\")\n",
    "if c:\n",
    "    if ord(c)>=ord(\"A\") and ord(c)<=ord(\"Z\"):\n",
    "        print(\"it's a capital letter\")\n",
    "    else:\n",
    "        print('it\"s not a capital letter')\n",
    "else:\n",
    "    print(\"invalid string\")\n"
   ]
  },
  {
   "cell_type": "code",
   "execution_count": 23,
   "metadata": {},
   "outputs": [
    {
     "name": "stdout",
     "output_type": "stream",
     "text": [
      "Enter a char:$\n",
      "it\"s not a capital letter\n"
     ]
    }
   ],
   "source": [
    "c=input(\"Enter a char:\")\n",
    "if c:\n",
    "    if ord(c)>=ord(\"A\") and ord(c)<=ord(\"Z\"):\n",
    "        print(\"it's a capital letter\")\n",
    "    else:\n",
    "        print('it\"s not a capital letter')\n",
    "else:\n",
    "    print(\"invalid string\")\n"
   ]
  },
  {
   "cell_type": "code",
   "execution_count": 24,
   "metadata": {},
   "outputs": [
    {
     "name": "stdout",
     "output_type": "stream",
     "text": [
      "Enter a char:WE\n"
     ]
    },
    {
     "ename": "TypeError",
     "evalue": "ord() expected a character, but string of length 2 found",
     "output_type": "error",
     "traceback": [
      "\u001b[1;31m---------------------------------------------------------------------------\u001b[0m",
      "\u001b[1;31mTypeError\u001b[0m                                 Traceback (most recent call last)",
      "\u001b[1;32m<ipython-input-24-2d1a16983ecd>\u001b[0m in \u001b[0;36m<module>\u001b[1;34m\u001b[0m\n\u001b[0;32m      1\u001b[0m \u001b[0mc\u001b[0m\u001b[1;33m=\u001b[0m\u001b[0minput\u001b[0m\u001b[1;33m(\u001b[0m\u001b[1;34m\"Enter a char:\"\u001b[0m\u001b[1;33m)\u001b[0m\u001b[1;33m\u001b[0m\u001b[1;33m\u001b[0m\u001b[0m\n\u001b[0;32m      2\u001b[0m \u001b[1;32mif\u001b[0m \u001b[0mc\u001b[0m\u001b[1;33m:\u001b[0m\u001b[1;33m\u001b[0m\u001b[1;33m\u001b[0m\u001b[0m\n\u001b[1;32m----> 3\u001b[1;33m     \u001b[1;32mif\u001b[0m \u001b[0mord\u001b[0m\u001b[1;33m(\u001b[0m\u001b[0mc\u001b[0m\u001b[1;33m)\u001b[0m\u001b[1;33m>=\u001b[0m\u001b[0mord\u001b[0m\u001b[1;33m(\u001b[0m\u001b[1;34m\"A\"\u001b[0m\u001b[1;33m)\u001b[0m \u001b[1;32mand\u001b[0m \u001b[0mord\u001b[0m\u001b[1;33m(\u001b[0m\u001b[0mc\u001b[0m\u001b[1;33m)\u001b[0m\u001b[1;33m<=\u001b[0m\u001b[0mord\u001b[0m\u001b[1;33m(\u001b[0m\u001b[1;34m\"Z\"\u001b[0m\u001b[1;33m)\u001b[0m\u001b[1;33m:\u001b[0m\u001b[1;33m\u001b[0m\u001b[1;33m\u001b[0m\u001b[0m\n\u001b[0m\u001b[0;32m      4\u001b[0m         \u001b[0mprint\u001b[0m\u001b[1;33m(\u001b[0m\u001b[1;34m\"it's a capital letter\"\u001b[0m\u001b[1;33m)\u001b[0m\u001b[1;33m\u001b[0m\u001b[1;33m\u001b[0m\u001b[0m\n\u001b[0;32m      5\u001b[0m     \u001b[1;32melse\u001b[0m\u001b[1;33m:\u001b[0m\u001b[1;33m\u001b[0m\u001b[1;33m\u001b[0m\u001b[0m\n",
      "\u001b[1;31mTypeError\u001b[0m: ord() expected a character, but string of length 2 found"
     ]
    }
   ],
   "source": [
    "c=input(\"Enter a char:\")\n",
    "if c:\n",
    "    if ord(c)>=ord(\"A\") and ord(c)<=ord(\"Z\"):\n",
    "        print(\"it's a capital letter\")\n",
    "    else:\n",
    "        print('it\"s not a capital letter')\n",
    "else:\n",
    "    print(\"invalid string\")\n"
   ]
  },
  {
   "cell_type": "code",
   "execution_count": 25,
   "metadata": {},
   "outputs": [
    {
     "name": "stdout",
     "output_type": "stream",
     "text": [
      "Enter a char:\n",
      "invalid string\n"
     ]
    }
   ],
   "source": [
    "c=input(\"Enter a char:\")\n",
    "if len(c)==1:\n",
    "    if ord(c)>=ord(\"A\") and ord(c)<=ord(\"Z\"):\n",
    "        print(\"it's a capital letter\")\n",
    "    else:\n",
    "        print('it\"s not a capital letter')\n",
    "else:\n",
    "    print(\"invalid string\")\n"
   ]
  },
  {
   "cell_type": "code",
   "execution_count": 26,
   "metadata": {},
   "outputs": [
    {
     "name": "stdout",
     "output_type": "stream",
     "text": [
      "Enter a char:E\n",
      "it's a capital letter\n"
     ]
    }
   ],
   "source": [
    "c=input(\"Enter a char:\")\n",
    "if len(c)==1:\n",
    "    if ord(c)>=ord(\"A\") and ord(c)<=ord(\"Z\"):\n",
    "        print(\"it's a capital letter\")\n",
    "    else:\n",
    "        print('it\"s not a capital letter')\n",
    "else:\n",
    "    print(\"invalid string\")\n"
   ]
  },
  {
   "cell_type": "code",
   "execution_count": 27,
   "metadata": {},
   "outputs": [
    {
     "name": "stdout",
     "output_type": "stream",
     "text": [
      "Enter a char:we\n",
      "invalid string\n"
     ]
    }
   ],
   "source": [
    "c=input(\"Enter a char:\")\n",
    "if len(c)==1:\n",
    "    if ord(c)>=ord(\"A\") and ord(c)<=ord(\"Z\"):\n",
    "        print(\"it's a capital letter\")\n",
    "    else:\n",
    "        print('it\"s not a capital letter')\n",
    "else:\n",
    "    print(\"invalid string\")\n"
   ]
  },
  {
   "cell_type": "code",
   "execution_count": 29,
   "metadata": {},
   "outputs": [
    {
     "name": "stdout",
     "output_type": "stream",
     "text": [
      "Enter a char:Q\n",
      "caps\n"
     ]
    }
   ],
   "source": [
    "c=input(\"Enter a char:\")\n",
    "print(\"Invalid string\" if len(c)!=1  else \"caps\" if ord(c)>=ord(\"A\") and ord(c)<=ord(\"Z\") else \"Not caps\")"
   ]
  },
  {
   "cell_type": "code",
   "execution_count": 30,
   "metadata": {},
   "outputs": [
    {
     "name": "stdout",
     "output_type": "stream",
     "text": [
      "Enter a char:q\n",
      "Not caps\n"
     ]
    }
   ],
   "source": [
    "c=input(\"Enter a char:\")\n",
    "print(\"Invalid string\" if len(c)!=1  else \"caps\" if ord(c)>=ord(\"A\") and ord(c)<=ord(\"Z\") else \"Not caps\")"
   ]
  },
  {
   "cell_type": "code",
   "execution_count": 32,
   "metadata": {},
   "outputs": [
    {
     "data": {
      "text/plain": [
       "[1, 2, 3, 4, 5, 6, 7, 8, 9]"
      ]
     },
     "execution_count": 32,
     "metadata": {},
     "output_type": "execute_result"
    }
   ],
   "source": [
    "list(range(1,10))"
   ]
  },
  {
   "cell_type": "code",
   "execution_count": 33,
   "metadata": {},
   "outputs": [
    {
     "data": {
      "text/plain": [
       "[1, 2, 3, 4, 5, 6, 7, 8, 9, 10]"
      ]
     },
     "execution_count": 33,
     "metadata": {},
     "output_type": "execute_result"
    }
   ],
   "source": [
    "list(range(1,11))"
   ]
  },
  {
   "cell_type": "code",
   "execution_count": 34,
   "metadata": {},
   "outputs": [
    {
     "data": {
      "text/plain": [
       "81"
      ]
     },
     "execution_count": 34,
     "metadata": {},
     "output_type": "execute_result"
    }
   ],
   "source": [
    "ord(\"Q\")"
   ]
  },
  {
   "cell_type": "code",
   "execution_count": 35,
   "metadata": {},
   "outputs": [
    {
     "data": {
      "text/plain": [
       "65"
      ]
     },
     "execution_count": 35,
     "metadata": {},
     "output_type": "execute_result"
    }
   ],
   "source": [
    "ord(\"A\")"
   ]
  },
  {
   "cell_type": "code",
   "execution_count": 36,
   "metadata": {},
   "outputs": [
    {
     "data": {
      "text/plain": [
       "90"
      ]
     },
     "execution_count": 36,
     "metadata": {},
     "output_type": "execute_result"
    }
   ],
   "source": [
    "ord(\"Z\")"
   ]
  },
  {
   "cell_type": "code",
   "execution_count": 38,
   "metadata": {},
   "outputs": [
    {
     "name": "stdout",
     "output_type": "stream",
     "text": [
      "[65, 66, 67, 68, 69, 70, 71, 72, 73, 74, 75, 76, 77, 78, 79, 80, 81, 82, 83, 84, 85, 86, 87, 88, 89, 90]\n"
     ]
    }
   ],
   "source": [
    "print(list(range(65,91)))"
   ]
  },
  {
   "cell_type": "code",
   "execution_count": 40,
   "metadata": {},
   "outputs": [
    {
     "data": {
      "text/plain": [
       "True"
      ]
     },
     "execution_count": 40,
     "metadata": {},
     "output_type": "execute_result"
    }
   ],
   "source": [
    "81 in   list(range(65,91))"
   ]
  },
  {
   "cell_type": "code",
   "execution_count": 41,
   "metadata": {},
   "outputs": [
    {
     "data": {
      "text/plain": [
       "False"
      ]
     },
     "execution_count": 41,
     "metadata": {},
     "output_type": "execute_result"
    }
   ],
   "source": [
    "102 in   list(range(65,91))"
   ]
  },
  {
   "cell_type": "code",
   "execution_count": 42,
   "metadata": {},
   "outputs": [
    {
     "name": "stdout",
     "output_type": "stream",
     "text": [
      "Enter a char:d\n",
      "Not caps\n"
     ]
    }
   ],
   "source": [
    "c=input(\"Enter a char:\")\n",
    "print(\"Invalid string\" if len(c)!=1  else \"caps\" if ord(c) in range(ord(\"A\"), ord(\"Z\")+1) else \"Not caps\")"
   ]
  },
  {
   "cell_type": "code",
   "execution_count": null,
   "metadata": {},
   "outputs": [],
   "source": []
  }
 ],
 "metadata": {
  "kernelspec": {
   "display_name": "Python 3",
   "language": "python",
   "name": "python3"
  },
  "language_info": {
   "codemirror_mode": {
    "name": "ipython",
    "version": 3
   },
   "file_extension": ".py",
   "mimetype": "text/x-python",
   "name": "python",
   "nbconvert_exporter": "python",
   "pygments_lexer": "ipython3",
   "version": "3.8.3"
  }
 },
 "nbformat": 4,
 "nbformat_minor": 4
}
