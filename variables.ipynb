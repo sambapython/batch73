{
 "cells": [
  {
   "cell_type": "code",
   "execution_count": 1,
   "metadata": {},
   "outputs": [
    {
     "name": "stdout",
     "output_type": "stream",
     "text": [
      "1000 <class 'int'>\n",
      "1.23 <class 'float'>\n",
      "(1+2j) <class 'complex'>\n",
      "True <class 'bool'>\n",
      "None <class 'NoneType'>\n",
      "python program <class 'str'>\n",
      "[10, 20, 30, 'python'] <class 'list'>\n",
      "(1, 2, 3, 10) <class 'tuple'>\n",
      "{'name': 'Jay', 'age': 4} <class 'dict'>\n"
     ]
    }
   ],
   "source": [
    "a=1000\n",
    "print(a, type(a))\n",
    "a=1.23\n",
    "print(a, type(a))\n",
    "a=1+2j\n",
    "print(a, type(a))\n",
    "a=True\n",
    "print(a, type(a))\n",
    "a=None\n",
    "print(a, type(a))\n",
    "a=\"python program\"\n",
    "print(a, type(a))\n",
    "a=[10,20,30,\"python\"]\n",
    "print(a, type(a))\n",
    "a=(1,2,3,10)\n",
    "print(a, type(a))\n",
    "a={\"name\":\"Jay\",\"age\":4}\n",
    "print(a, type(a))"
   ]
  },
  {
   "cell_type": "code",
   "execution_count": 2,
   "metadata": {},
   "outputs": [],
   "source": [
    "a=1000\n",
    "b=2000\n",
    "c=a\n",
    "a=4000\n",
    "d=1000\n",
    "s=\"python p1\"\n",
    "s1=s\n",
    "s2=\"apple\"\n"
   ]
  },
  {
   "cell_type": "code",
   "execution_count": 7,
   "metadata": {},
   "outputs": [
    {
     "name": "stdout",
     "output_type": "stream",
     "text": [
      "p 2844908145136\n",
      "y 2844908145584\n",
      "t 2844908124272\n",
      "h 2844908145520\n",
      "o 2844908126128\n",
      "n 2844908145456\n",
      "a 2844908311216\n",
      "a 2844908311216\n",
      "p 2844908145136\n",
      "p 2844908145136\n",
      "l 2844908311280\n"
     ]
    }
   ],
   "source": [
    "s=\"pythona\"\n",
    "print(s[0],id(s[0]))\n",
    "print(s[1],id(s[1]))\n",
    "print(s[2],id(s[2]))\n",
    "print(s[3],id(s[3]))\n",
    "print(s[4],id(s[4]))\n",
    "print(s[5],id(s[5]))\n",
    "print(s[6],id(s[6]))\n",
    "s1=\"apple\"\n",
    "print(s1[0],id(s1[0]))\n",
    "print(s1[1],id(s1[1]))\n",
    "print(s1[2],id(s1[2]))\n",
    "print(s1[3],id(s1[3]))\n"
   ]
  },
  {
   "cell_type": "code",
   "execution_count": 8,
   "metadata": {},
   "outputs": [
    {
     "name": "stdout",
     "output_type": "stream",
     "text": [
      "4000\n"
     ]
    }
   ],
   "source": [
    "a=1000\n",
    "a=4000\n",
    "print(a)"
   ]
  },
  {
   "cell_type": "code",
   "execution_count": null,
   "metadata": {},
   "outputs": [],
   "source": [
    "a=1000\n",
    "b=2000\n",
    "c=a\n",
    "a=4000\n",
    "c=5000\n",
    "d=c\n",
    "e=7000"
   ]
  }
 ],
 "metadata": {
  "kernelspec": {
   "display_name": "Python 3",
   "language": "python",
   "name": "python3"
  },
  "language_info": {
   "codemirror_mode": {
    "name": "ipython",
    "version": 3
   },
   "file_extension": ".py",
   "mimetype": "text/x-python",
   "name": "python",
   "nbconvert_exporter": "python",
   "pygments_lexer": "ipython3",
   "version": "3.8.3"
  }
 },
 "nbformat": 4,
 "nbformat_minor": 4
}
