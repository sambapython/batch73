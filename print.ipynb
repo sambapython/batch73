{
 "cells": [
  {
   "cell_type": "code",
   "execution_count": 1,
   "metadata": {},
   "outputs": [
    {
     "name": "stdout",
     "output_type": "stream",
     "text": [
      "hello\n"
     ]
    }
   ],
   "source": [
    "print(\"hello\")"
   ]
  },
  {
   "cell_type": "code",
   "execution_count": 3,
   "metadata": {},
   "outputs": [
    {
     "name": "stdout",
     "output_type": "stream",
     "text": [
      "10\n"
     ]
    }
   ],
   "source": [
    "print(10)"
   ]
  },
  {
   "cell_type": "code",
   "execution_count": 4,
   "metadata": {},
   "outputs": [
    {
     "name": "stdout",
     "output_type": "stream",
     "text": [
      "the product apple cost is Rs. 10\n"
     ]
    }
   ],
   "source": [
    "cost=10\n",
    "name=\"apple\"\n",
    "# the product apple cost is Rs.10\n",
    "print(\"the product\",name,\"cost is Rs.\",cost)"
   ]
  },
  {
   "cell_type": "code",
   "execution_count": 5,
   "metadata": {},
   "outputs": [
    {
     "name": "stdout",
     "output_type": "stream",
     "text": [
      "the productapplecost is Rs.10\n"
     ]
    }
   ],
   "source": [
    "cost=10\n",
    "name=\"apple\"\n",
    "# the product apple cost is Rs.10\n",
    "print(\"the product\",name,\"cost is Rs.\",cost,sep=\"\")"
   ]
  },
  {
   "cell_type": "code",
   "execution_count": 6,
   "metadata": {},
   "outputs": [
    {
     "name": "stdout",
     "output_type": "stream",
     "text": [
      "the product apple cost is Rs.10\n"
     ]
    }
   ],
   "source": [
    "cost=10\n",
    "name=\"apple\"\n",
    "# the product apple cost is Rs.10\n",
    "print(\"the product \",name,\" cost is Rs.\",cost,sep=\"\")"
   ]
  },
  {
   "cell_type": "code",
   "execution_count": 7,
   "metadata": {},
   "outputs": [
    {
     "name": "stdout",
     "output_type": "stream",
     "text": [
      "the product %s cost is Rs.%s ('apple', 10)\n"
     ]
    }
   ],
   "source": [
    "# format specifiers\n",
    "cost=10\n",
    "name=\"apple\"\n",
    "# the product apple cost is Rs.10\n",
    "print(\"the product %s cost is Rs.%s\",(name,cost))"
   ]
  },
  {
   "cell_type": "code",
   "execution_count": 8,
   "metadata": {},
   "outputs": [
    {
     "name": "stdout",
     "output_type": "stream",
     "text": [
      "the product apple cost is Rs.10\n"
     ]
    }
   ],
   "source": [
    "# format specifiers\n",
    "cost=10\n",
    "name=\"apple\"\n",
    "# the product apple cost is Rs.10\n",
    "print(\"the product %s cost is Rs.%s\"%(name,cost))"
   ]
  },
  {
   "cell_type": "code",
   "execution_count": 9,
   "metadata": {},
   "outputs": [
    {
     "name": "stdout",
     "output_type": "stream",
     "text": [
      "the product 10 cost is Rs.apple\n"
     ]
    }
   ],
   "source": [
    "# format specifiers\n",
    "cost=10\n",
    "name=\"apple\"\n",
    "# the product apple cost is Rs.10\n",
    "print(\"the product %s cost is Rs.%s\"%(cost,name))"
   ]
  },
  {
   "cell_type": "code",
   "execution_count": 10,
   "metadata": {},
   "outputs": [
    {
     "name": "stdout",
     "output_type": "stream",
     "text": [
      "the product apple cost is Rs.10\n"
     ]
    }
   ],
   "source": [
    "#template strings\n",
    "cost=10\n",
    "name=\"apple\"\n",
    "# the product apple cost is Rs.10\n",
    "print(f\"the product {name} cost is Rs.{cost}\")"
   ]
  },
  {
   "cell_type": "code",
   "execution_count": 11,
   "metadata": {},
   "outputs": [
    {
     "name": "stdout",
     "output_type": "stream",
     "text": [
      "the product {name} cost is Rs.{cost}\n"
     ]
    }
   ],
   "source": [
    "#template strings\n",
    "cost=10\n",
    "name=\"apple\"\n",
    "# the product apple cost is Rs.10\n",
    "print(\"the product {name} cost is Rs.{cost}\")"
   ]
  },
  {
   "cell_type": "code",
   "execution_count": 12,
   "metadata": {},
   "outputs": [
    {
     "name": "stdout",
     "output_type": "stream",
     "text": [
      "the product apple cost is Rs.10.2345546457\n"
     ]
    }
   ],
   "source": [
    "#template strings\n",
    "cost=10.2345546457\n",
    "name=\"apple\"\n",
    "# the product apple cost is Rs.10\n",
    "print(f\"the product {name} cost is Rs.{float(cost)}\")"
   ]
  },
  {
   "cell_type": "code",
   "execution_count": 13,
   "metadata": {},
   "outputs": [
    {
     "name": "stdout",
     "output_type": "stream",
     "text": [
      "the product apple cost is Rs.10.234555\n"
     ]
    }
   ],
   "source": [
    "#template strings\n",
    "cost=10.2345546457\n",
    "name=\"apple\"\n",
    "# the product apple cost is Rs.10\n",
    "print(\"the product %s cost is Rs.%f\"%(name, cost))"
   ]
  },
  {
   "cell_type": "code",
   "execution_count": 14,
   "metadata": {},
   "outputs": [
    {
     "name": "stdout",
     "output_type": "stream",
     "text": [
      "the product apple cost is Rs.10.23\n"
     ]
    }
   ],
   "source": [
    "#template strings\n",
    "cost=10.2345546457\n",
    "name=\"apple\"\n",
    "# the product apple cost is Rs.10\n",
    "print(\"the product %s cost is Rs.%.2f\"%(name, cost))"
   ]
  },
  {
   "cell_type": "code",
   "execution_count": 15,
   "metadata": {},
   "outputs": [
    {
     "name": "stdout",
     "output_type": "stream",
     "text": [
      "the product apple cost is Rs.10.234555\n"
     ]
    }
   ],
   "source": [
    "#template strings\n",
    "cost=10.2345546457\n",
    "name=\"apple\"\n",
    "# the product apple cost is Rs.10\n",
    "print(f\"the product {name} cost is Rs.{cost:f}\")"
   ]
  },
  {
   "cell_type": "code",
   "execution_count": 16,
   "metadata": {},
   "outputs": [
    {
     "name": "stdout",
     "output_type": "stream",
     "text": [
      "the product apple cost is Rs.10.234555\n"
     ]
    }
   ],
   "source": [
    "#template strings\n",
    "cost=10.2345546457\n",
    "name=\"apple\"\n",
    "# the product apple cost is Rs.10\n",
    "print(f\"the product {name} cost is Rs.{cost:2f}\")"
   ]
  },
  {
   "cell_type": "code",
   "execution_count": 17,
   "metadata": {},
   "outputs": [
    {
     "name": "stdout",
     "output_type": "stream",
     "text": [
      "the product apple cost is Rs.10.23\n"
     ]
    }
   ],
   "source": [
    "#template strings\n",
    "cost=10.2345546457\n",
    "name=\"apple\"\n",
    "# the product apple cost is Rs.10\n",
    "print(f\"the product {name} cost is Rs.{cost:.2f}\")"
   ]
  },
  {
   "cell_type": "code",
   "execution_count": 18,
   "metadata": {},
   "outputs": [
    {
     "ename": "ValueError",
     "evalue": "Unknown format code 'd' for object of type 'float'",
     "output_type": "error",
     "traceback": [
      "\u001b[1;31m---------------------------------------------------------------------------\u001b[0m",
      "\u001b[1;31mValueError\u001b[0m                                Traceback (most recent call last)",
      "\u001b[1;32m<ipython-input-18-e0570f455e0f>\u001b[0m in \u001b[0;36m<module>\u001b[1;34m\u001b[0m\n\u001b[0;32m      3\u001b[0m \u001b[0mname\u001b[0m\u001b[1;33m=\u001b[0m\u001b[1;34m\"apple\"\u001b[0m\u001b[1;33m\u001b[0m\u001b[1;33m\u001b[0m\u001b[0m\n\u001b[0;32m      4\u001b[0m \u001b[1;31m# the product apple cost is Rs.10\u001b[0m\u001b[1;33m\u001b[0m\u001b[1;33m\u001b[0m\u001b[1;33m\u001b[0m\u001b[0m\n\u001b[1;32m----> 5\u001b[1;33m \u001b[0mprint\u001b[0m\u001b[1;33m(\u001b[0m\u001b[1;34mf\"the product {name} cost is Rs.{cost:d}\"\u001b[0m\u001b[1;33m)\u001b[0m\u001b[1;33m\u001b[0m\u001b[1;33m\u001b[0m\u001b[0m\n\u001b[0m",
      "\u001b[1;31mValueError\u001b[0m: Unknown format code 'd' for object of type 'float'"
     ]
    }
   ],
   "source": [
    "#template strings\n",
    "cost=10.2345546457\n",
    "name=\"apple\"\n",
    "# the product apple cost is Rs.10\n",
    "print(f\"the product {name} cost is Rs.{cost:d}\")"
   ]
  },
  {
   "cell_type": "code",
   "execution_count": 19,
   "metadata": {},
   "outputs": [
    {
     "name": "stdout",
     "output_type": "stream",
     "text": [
      "the product apple cost is Rs.10\n"
     ]
    }
   ],
   "source": [
    "#template strings\n",
    "cost=10.2345546457\n",
    "name=\"apple\"\n",
    "# the product apple cost is Rs.10\n",
    "print(f\"the product {name} cost is Rs.{int(cost)}\")"
   ]
  },
  {
   "cell_type": "code",
   "execution_count": 20,
   "metadata": {},
   "outputs": [
    {
     "name": "stdout",
     "output_type": "stream",
     "text": [
      "the product apple cost is Rs.10\n",
      "the product apple cost is Rs.10\n"
     ]
    }
   ],
   "source": [
    "#template strings\n",
    "cost=10.2345546457\n",
    "name=\"apple\"\n",
    "# the product apple cost is Rs.10\n",
    "print(f\"the product {name} cost is Rs.{int(cost)}\")\n",
    "print(\"the product %s cost is Rs.%d\"%(name,cost))"
   ]
  },
  {
   "cell_type": "code",
   "execution_count": 21,
   "metadata": {},
   "outputs": [
    {
     "name": "stdout",
     "output_type": "stream",
     "text": [
      "sfsdf\tsfsdf\n",
      "sdfdsfsd\n",
      "sdfsdf\n",
      "sdfsdf\tsdfsdf\n",
      "\n"
     ]
    }
   ],
   "source": [
    "s=\"sfsdf\\tsfsdf\\nsdfdsfsd\\nsdfsdf\\nsdfsdf\\tsdfsdf\\n\"\n",
    "print(s)"
   ]
  },
  {
   "cell_type": "code",
   "execution_count": 22,
   "metadata": {},
   "outputs": [
    {
     "name": "stdout",
     "output_type": "stream",
     "text": [
      "sfsdf\\tsfsdf\\nsdfdsfsd\\nsdfsdf\\nsdfsdf\\tsdfsdf\\n\n"
     ]
    }
   ],
   "source": [
    "# raw strings\n",
    "s=r\"sfsdf\\tsfsdf\\nsdfdsfsd\\nsdfsdf\\nsdfsdf\\tsdfsdf\\n\"\n",
    "print(s)"
   ]
  },
  {
   "cell_type": "code",
   "execution_count": 23,
   "metadata": {},
   "outputs": [
    {
     "name": "stdout",
     "output_type": "stream",
     "text": [
      "sfsdf\\tsfsdf\\nsdfdsfsd\\nsdfsdf\\nsdfsdf\\tsdfsdf\\n\n"
     ]
    }
   ],
   "source": [
    "s=\"sfsdf\\\\tsfsdf\\\\nsdfdsfsd\\\\nsdfsdf\\\\nsdfsdf\\\\tsdfsdf\\\\n\"\n",
    "print(s)"
   ]
  },
  {
   "cell_type": "code",
   "execution_count": 24,
   "metadata": {},
   "outputs": [
    {
     "name": "stdout",
     "output_type": "stream",
     "text": [
      "sdfsdf\n",
      "sfdsf\n"
     ]
    }
   ],
   "source": [
    "print(\"sdfsdf\");print(\"sfdsf\")"
   ]
  },
  {
   "cell_type": "code",
   "execution_count": 25,
   "metadata": {},
   "outputs": [
    {
     "name": "stdout",
     "output_type": "stream",
     "text": [
      "sdfsdf sfdsf\n"
     ]
    }
   ],
   "source": [
    "print(\"sdfsdf\", end=\" \");print(\"sfdsf\")"
   ]
  },
  {
   "cell_type": "code",
   "execution_count": 26,
   "metadata": {},
   "outputs": [
    {
     "name": "stdout",
     "output_type": "stream",
     "text": [
      "sdsdfsd\n",
      "sdfsd\tsdfsd\n",
      "sfds\tsdfsd\n",
      "\n",
      "sdsdfsd\n",
      "sdfsd\tsdfsd\n",
      "sfds\tsdfsd\n",
      "\n"
     ]
    }
   ],
   "source": [
    "t=\"sdsdfsd\\nsdfsd\\tsdfsd\\nsfds\\tsdfsd\\n\"\n",
    "print(t)\n",
    "print(\"%s\"%t)"
   ]
  },
  {
   "cell_type": "code",
   "execution_count": 27,
   "metadata": {},
   "outputs": [
    {
     "name": "stdout",
     "output_type": "stream",
     "text": [
      "sdsdfsd\n",
      "sdfsd\tsdfsd\n",
      "sfds\tsdfsd\n",
      "\n",
      "'sdsdfsd\\nsdfsd\\tsdfsd\\nsfds\\tsdfsd\\n'\n"
     ]
    }
   ],
   "source": [
    "t=\"sdsdfsd\\nsdfsd\\tsdfsd\\nsfds\\tsdfsd\\n\"\n",
    "print(t)\n",
    "print(\"%r\"%t)"
   ]
  },
  {
   "cell_type": "code",
   "execution_count": 28,
   "metadata": {},
   "outputs": [
    {
     "name": "stdout",
     "output_type": "stream",
     "text": [
      "0b1010\n",
      "0xa\n",
      "0o12\n"
     ]
    }
   ],
   "source": [
    "a=10\n",
    "print(bin(a))\n",
    "print(hex(a))\n",
    "print(oct(a))"
   ]
  },
  {
   "cell_type": "code",
   "execution_count": 29,
   "metadata": {},
   "outputs": [
    {
     "ename": "ValueError",
     "evalue": "unsupported format character 'b' (0x62) at index 1",
     "output_type": "error",
     "traceback": [
      "\u001b[1;31m---------------------------------------------------------------------------\u001b[0m",
      "\u001b[1;31mValueError\u001b[0m                                Traceback (most recent call last)",
      "\u001b[1;32m<ipython-input-29-290ac6f37aa2>\u001b[0m in \u001b[0;36m<module>\u001b[1;34m\u001b[0m\n\u001b[0;32m      1\u001b[0m \u001b[0ma\u001b[0m\u001b[1;33m=\u001b[0m\u001b[1;36m1234\u001b[0m\u001b[1;33m\u001b[0m\u001b[1;33m\u001b[0m\u001b[0m\n\u001b[1;32m----> 2\u001b[1;33m \u001b[0mprint\u001b[0m\u001b[1;33m(\u001b[0m\u001b[1;34m\"%b\"\u001b[0m\u001b[1;33m%\u001b[0m\u001b[0ma\u001b[0m\u001b[1;33m)\u001b[0m\u001b[1;33m\u001b[0m\u001b[1;33m\u001b[0m\u001b[0m\n\u001b[0m",
      "\u001b[1;31mValueError\u001b[0m: unsupported format character 'b' (0x62) at index 1"
     ]
    }
   ],
   "source": [
    "a=1234\n",
    "print(\"%b\"%a)"
   ]
  },
  {
   "cell_type": "code",
   "execution_count": 30,
   "metadata": {},
   "outputs": [
    {
     "name": "stdout",
     "output_type": "stream",
     "text": [
      "10011010010\n"
     ]
    }
   ],
   "source": [
    "a=1234\n",
    "print(f\"{a:b}\")"
   ]
  },
  {
   "cell_type": "code",
   "execution_count": 32,
   "metadata": {},
   "outputs": [
    {
     "name": "stdout",
     "output_type": "stream",
     "text": [
      "256\n",
      "100000000\n"
     ]
    }
   ],
   "source": [
    "x=256\n",
    "print(f\"{x}\")\n",
    "print(f\"{x:b}\")"
   ]
  },
  {
   "cell_type": "code",
   "execution_count": 33,
   "metadata": {},
   "outputs": [
    {
     "name": "stdout",
     "output_type": "stream",
     "text": [
      "256\n",
      "100000000\n"
     ]
    },
    {
     "ename": "ValueError",
     "evalue": "Unknown format code 'h' for object of type 'int'",
     "output_type": "error",
     "traceback": [
      "\u001b[1;31m---------------------------------------------------------------------------\u001b[0m",
      "\u001b[1;31mValueError\u001b[0m                                Traceback (most recent call last)",
      "\u001b[1;32m<ipython-input-33-1754e506def6>\u001b[0m in \u001b[0;36m<module>\u001b[1;34m\u001b[0m\n\u001b[0;32m      2\u001b[0m \u001b[0mprint\u001b[0m\u001b[1;33m(\u001b[0m\u001b[1;34mf\"{x}\"\u001b[0m\u001b[1;33m)\u001b[0m\u001b[1;33m\u001b[0m\u001b[1;33m\u001b[0m\u001b[0m\n\u001b[0;32m      3\u001b[0m \u001b[0mprint\u001b[0m\u001b[1;33m(\u001b[0m\u001b[1;34mf\"{x:b}\"\u001b[0m\u001b[1;33m)\u001b[0m\u001b[1;33m\u001b[0m\u001b[1;33m\u001b[0m\u001b[0m\n\u001b[1;32m----> 4\u001b[1;33m \u001b[0mprint\u001b[0m\u001b[1;33m(\u001b[0m\u001b[1;34mf\"{x:h}\"\u001b[0m\u001b[1;33m)\u001b[0m\u001b[1;33m\u001b[0m\u001b[1;33m\u001b[0m\u001b[0m\n\u001b[0m\u001b[0;32m      5\u001b[0m \u001b[0mprint\u001b[0m\u001b[1;33m(\u001b[0m\u001b[1;34mf\"{x:o}\"\u001b[0m\u001b[1;33m)\u001b[0m\u001b[1;33m\u001b[0m\u001b[1;33m\u001b[0m\u001b[0m\n",
      "\u001b[1;31mValueError\u001b[0m: Unknown format code 'h' for object of type 'int'"
     ]
    }
   ],
   "source": [
    "x=256\n",
    "print(f\"{x}\")\n",
    "print(f\"{x:b}\")\n",
    "print(f\"{x:h}\")\n",
    "print(f\"{x:o}\")"
   ]
  },
  {
   "cell_type": "code",
   "execution_count": 34,
   "metadata": {},
   "outputs": [
    {
     "name": "stdout",
     "output_type": "stream",
     "text": [
      "256\n",
      "100000000\n",
      "100\n",
      "400\n"
     ]
    }
   ],
   "source": [
    "x=256\n",
    "print(f\"{x}\")\n",
    "print(f\"{x:b}\")\n",
    "print(f\"{x:x}\")\n",
    "print(f\"{x:o}\")"
   ]
  },
  {
   "cell_type": "code",
   "execution_count": null,
   "metadata": {},
   "outputs": [],
   "source": []
  }
 ],
 "metadata": {
  "kernelspec": {
   "display_name": "Python 3",
   "language": "python",
   "name": "python3"
  },
  "language_info": {
   "codemirror_mode": {
    "name": "ipython",
    "version": 3
   },
   "file_extension": ".py",
   "mimetype": "text/x-python",
   "name": "python",
   "nbconvert_exporter": "python",
   "pygments_lexer": "ipython3",
   "version": "3.8.3"
  }
 },
 "nbformat": 4,
 "nbformat_minor": 4
}
