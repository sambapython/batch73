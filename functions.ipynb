{
 "cells": [
  {
   "cell_type": "code",
   "execution_count": 1,
   "metadata": {},
   "outputs": [
    {
     "name": "stdout",
     "output_type": "stream",
     "text": [
      "started\n",
      "ended\n"
     ]
    }
   ],
   "source": [
    "print(\"started\")\n",
    "#function definition\n",
    "def fun(): # signature\n",
    "    print(\"hello\") # body\n",
    "print(\"ended\")"
   ]
  },
  {
   "cell_type": "code",
   "execution_count": 2,
   "metadata": {},
   "outputs": [
    {
     "name": "stdout",
     "output_type": "stream",
     "text": [
      "started\n",
      "ended\n",
      "hello\n"
     ]
    }
   ],
   "source": [
    "print(\"started\")\n",
    "#function definition\n",
    "def fun(): # signature\n",
    "    print(\"hello\") # body\n",
    "print(\"ended\")\n",
    "fun() # function call"
   ]
  },
  {
   "cell_type": "code",
   "execution_count": 3,
   "metadata": {},
   "outputs": [
    {
     "name": "stdout",
     "output_type": "stream",
     "text": [
      "started\n",
      "ended\n",
      "hello\n",
      "hello\n",
      "hello\n"
     ]
    }
   ],
   "source": [
    "print(\"started\")\n",
    "#function definition\n",
    "def fun(): # signature\n",
    "    print(\"hello\") # body\n",
    "print(\"ended\")\n",
    "fun() # function call\n",
    "fun()\n",
    "fun()"
   ]
  },
  {
   "cell_type": "code",
   "execution_count": 4,
   "metadata": {},
   "outputs": [
    {
     "name": "stdout",
     "output_type": "stream",
     "text": [
      "started\n",
      "ended\n",
      "function started\n",
      "hello\n",
      "function ended\n",
      "function started\n",
      "hello\n",
      "function ended\n",
      "function started\n",
      "hello\n",
      "function ended\n"
     ]
    }
   ],
   "source": [
    "print(\"started\")\n",
    "#function definition\n",
    "def fun(): # signature\n",
    "    print(\"function started\")\n",
    "    print(\"hello\") # body\n",
    "    print(\"function ended\")\n",
    "print(\"ended\")\n",
    "fun() # function call\n",
    "fun()\n",
    "fun()"
   ]
  },
  {
   "cell_type": "code",
   "execution_count": 6,
   "metadata": {},
   "outputs": [
    {
     "name": "stdout",
     "output_type": "stream",
     "text": [
      "started\n",
      "ended\n",
      "x= 10 y= 20\n",
      "result= 30\n",
      "x= 100 y= 200\n",
      "result= 300\n",
      "x= 1000 y= 2000\n",
      "result= 3000\n"
     ]
    }
   ],
   "source": [
    "print(\"started\")\n",
    "def fun(x,y): # x,y parameters\n",
    "    print(\"x=\",x,\"y=\",y)\n",
    "    res=x+y\n",
    "    print(\"result=\",res)\n",
    "print(\"ended\") \n",
    "fun(10,20) # 10,20 are arguments\n",
    "fun(100,200) # 100,200 are arguments\n",
    "fun(1000,2000)"
   ]
  },
  {
   "cell_type": "code",
   "execution_count": 7,
   "metadata": {},
   "outputs": [],
   "source": [
    "# write three methods/functions 1.add,2.sub,3.mul. take three parameters in each function. print the parameters and the result.\n"
   ]
  },
  {
   "cell_type": "code",
   "execution_count": 8,
   "metadata": {},
   "outputs": [
    {
     "name": "stdout",
     "output_type": "stream",
     "text": [
      "res= 30\n",
      "res1= None\n"
     ]
    }
   ],
   "source": [
    "def fun(x,y):\n",
    "    res=x+y\n",
    "    print(\"res=\",res)\n",
    "    \n",
    "res1=fun(10,20)\n",
    "print(\"res1=\",res1) # res1 value None because we are not returning any value from fun"
   ]
  },
  {
   "cell_type": "code",
   "execution_count": 9,
   "metadata": {},
   "outputs": [
    {
     "name": "stdout",
     "output_type": "stream",
     "text": [
      "res= 30\n",
      "res1= HELLO\n"
     ]
    }
   ],
   "source": [
    "def fun(x,y):\n",
    "    res=x+y\n",
    "    print(\"res=\",res)\n",
    "    return \"HELLO\"\n",
    "    \n",
    "res1=fun(10,20)\n",
    "print(\"res1=\",res1) # res1 value HELLO  because we are returning HELLO value from fun"
   ]
  },
  {
   "cell_type": "code",
   "execution_count": 10,
   "metadata": {},
   "outputs": [
    {
     "name": "stdout",
     "output_type": "stream",
     "text": [
      "res1= 30\n"
     ]
    }
   ],
   "source": [
    "def fun(x,y):\n",
    "    return x+y\n",
    "res1=fun(10,20)\n",
    "print(\"res1=\",res1)"
   ]
  },
  {
   "cell_type": "code",
   "execution_count": 11,
   "metadata": {},
   "outputs": [
    {
     "name": "stdout",
     "output_type": "stream",
     "text": [
      "first\n",
      "res1= 30\n",
      "first\n",
      "res2= 300\n",
      "first\n",
      "res3= 3000\n"
     ]
    }
   ],
   "source": [
    "def fun(x,y):\n",
    "    print(\"first\")\n",
    "    return x+y\n",
    "    print(\"second\")\n",
    "    return x-y\n",
    "    print(\"third\")\n",
    "    return x*y\n",
    "res1=fun(10,20)\n",
    "print(\"res1=\",res1)\n",
    "res2=fun(100,200)\n",
    "print(\"res2=\",res2)\n",
    "res3=fun(1000,2000)\n",
    "print(\"res3=\",res3)"
   ]
  },
  {
   "cell_type": "code",
   "execution_count": 12,
   "metadata": {},
   "outputs": [
    {
     "name": "stdout",
     "output_type": "stream",
     "text": [
      "started\n",
      "60\n",
      "-400\n",
      "6000000000\n"
     ]
    }
   ],
   "source": [
    "print(\"started\")\n",
    "def add(x,y,z):\n",
    "    return x+y+z\n",
    "def sub(x,y,z):\n",
    "    return x-y-z\n",
    "def mul(x,y,z):\n",
    "    return x*y*z\n",
    "\n",
    "print(add(10,20,30))\n",
    "print(sub(100,200,300))\n",
    "print(mul(1000,2000,3000))"
   ]
  },
  {
   "cell_type": "code",
   "execution_count": 13,
   "metadata": {},
   "outputs": [
    {
     "name": "stdout",
     "output_type": "stream",
     "text": [
      "started\n",
      "6000\n"
     ]
    }
   ],
   "source": [
    "print(\"started\")\n",
    "def add(x,y,z):\n",
    "    return x*y*z\n",
    "print(add(10,20,30))"
   ]
  },
  {
   "cell_type": "code",
   "execution_count": 14,
   "metadata": {},
   "outputs": [
    {
     "name": "stdout",
     "output_type": "stream",
     "text": [
      "first\n",
      "res1= 30\n",
      "first\n",
      "res2= 300\n",
      "first\n",
      "res3= 3000\n"
     ]
    }
   ],
   "source": [
    "def fun(x,y):\n",
    "    print(\"first\")\n",
    "    return x+y\n",
    "    print(\"second\")\n",
    "    return x-y\n",
    "    print(\"third\")\n",
    "    return x*y\n",
    "res1=fun(10,20)\n",
    "print(\"res1=\",res1)\n",
    "res2=fun(100,200)\n",
    "print(\"res2=\",res2)\n",
    "res3=fun(1000,2000)\n",
    "print(\"res3=\",res3)"
   ]
  },
  {
   "cell_type": "code",
   "execution_count": 15,
   "metadata": {},
   "outputs": [
    {
     "name": "stdout",
     "output_type": "stream",
     "text": [
      "res1= <generator object fun at 0x000002367171EAC0>\n"
     ]
    }
   ],
   "source": [
    "def fun(x,y):\n",
    "    print(\"first\")\n",
    "    yield x+y\n",
    "    print(\"second\")\n",
    "    yield x-y\n",
    "    print(\"third\")\n",
    "    yield x*y\n",
    "res1=fun(10,20)\n",
    "print(\"res1=\",res1)"
   ]
  },
  {
   "cell_type": "code",
   "execution_count": 16,
   "metadata": {},
   "outputs": [
    {
     "name": "stdout",
     "output_type": "stream",
     "text": [
      "[1, 2, 3, 4]\n"
     ]
    }
   ],
   "source": [
    "def fun():\n",
    "    return [1,2,3,4]\n",
    "res=fun()\n",
    "print(res)"
   ]
  },
  {
   "cell_type": "code",
   "execution_count": 17,
   "metadata": {},
   "outputs": [
    {
     "name": "stdout",
     "output_type": "stream",
     "text": [
      "1\n",
      "2\n",
      "3\n",
      "4\n"
     ]
    }
   ],
   "source": [
    "def fun():\n",
    "    return [1,2,3,4]\n",
    "res=fun()\n",
    "for i in res:\n",
    "    print(i)"
   ]
  },
  {
   "cell_type": "code",
   "execution_count": 18,
   "metadata": {},
   "outputs": [
    {
     "name": "stdout",
     "output_type": "stream",
     "text": [
      "res1= <generator object fun at 0x00000236717340B0>\n"
     ]
    }
   ],
   "source": [
    "def fun(x,y):\n",
    "    print(\"first\")\n",
    "    yield x+y\n",
    "    print(\"second\")\n",
    "    yield x-y\n",
    "    print(\"third\")\n",
    "    yield x*y\n",
    "res1=fun(10,20)\n",
    "print(\"res1=\",res1)"
   ]
  },
  {
   "cell_type": "code",
   "execution_count": 20,
   "metadata": {},
   "outputs": [
    {
     "name": "stdout",
     "output_type": "stream",
     "text": [
      "res1= <generator object fun at 0x00000236717C19E0>\n",
      "first\n",
      "30\n",
      "second\n",
      "-10\n",
      "third\n",
      "200\n"
     ]
    }
   ],
   "source": [
    "def fun(x,y):\n",
    "    print(\"first\")\n",
    "    yield x+y\n",
    "    print(\"second\")\n",
    "    yield x-y\n",
    "    print(\"third\")\n",
    "    yield x*y\n",
    "res1=fun(10,20)\n",
    "print(\"res1=\",res1)\n",
    "k=next(res1)\n",
    "print(k)\n",
    "k=next(res1)\n",
    "print(k)\n",
    "k=next(res1)\n",
    "print(k)"
   ]
  },
  {
   "cell_type": "code",
   "execution_count": 21,
   "metadata": {},
   "outputs": [
    {
     "name": "stdout",
     "output_type": "stream",
     "text": [
      "res1= <generator object fun at 0x00000236717C1B30>\n",
      "first\n",
      "30\n",
      "second\n",
      "-10\n",
      "third\n",
      "200\n"
     ]
    },
    {
     "ename": "StopIteration",
     "evalue": "",
     "output_type": "error",
     "traceback": [
      "\u001b[1;31m---------------------------------------------------------------------------\u001b[0m",
      "\u001b[1;31mStopIteration\u001b[0m                             Traceback (most recent call last)",
      "\u001b[1;32m<ipython-input-21-8e5dd183c639>\u001b[0m in \u001b[0;36m<module>\u001b[1;34m\u001b[0m\n\u001b[0;32m     14\u001b[0m \u001b[0mk\u001b[0m\u001b[1;33m=\u001b[0m\u001b[0mnext\u001b[0m\u001b[1;33m(\u001b[0m\u001b[0mres1\u001b[0m\u001b[1;33m)\u001b[0m\u001b[1;33m\u001b[0m\u001b[1;33m\u001b[0m\u001b[0m\n\u001b[0;32m     15\u001b[0m \u001b[0mprint\u001b[0m\u001b[1;33m(\u001b[0m\u001b[0mk\u001b[0m\u001b[1;33m)\u001b[0m\u001b[1;33m\u001b[0m\u001b[1;33m\u001b[0m\u001b[0m\n\u001b[1;32m---> 16\u001b[1;33m \u001b[0mnext\u001b[0m\u001b[1;33m(\u001b[0m\u001b[0mres1\u001b[0m\u001b[1;33m)\u001b[0m\u001b[1;33m\u001b[0m\u001b[1;33m\u001b[0m\u001b[0m\n\u001b[0m",
      "\u001b[1;31mStopIteration\u001b[0m: "
     ]
    }
   ],
   "source": [
    "def fun(x,y):\n",
    "    print(\"first\")\n",
    "    yield x+y\n",
    "    print(\"second\")\n",
    "    yield x-y\n",
    "    print(\"third\")\n",
    "    yield x*y\n",
    "res1=fun(10,20)\n",
    "print(\"res1=\",res1)\n",
    "k=next(res1)\n",
    "print(k)\n",
    "k=next(res1)\n",
    "print(k)\n",
    "k=next(res1)\n",
    "print(k)\n",
    "next(res1)"
   ]
  },
  {
   "cell_type": "code",
   "execution_count": 22,
   "metadata": {},
   "outputs": [
    {
     "name": "stdout",
     "output_type": "stream",
     "text": [
      "res1= <generator object fun at 0x00000236717C1C10>\n",
      "first\n",
      "i= 30\n",
      "second\n",
      "i= -10\n",
      "third\n",
      "i= 200\n",
      "ended\n"
     ]
    }
   ],
   "source": [
    "def fun(x,y):\n",
    "    print(\"first\")\n",
    "    yield x+y\n",
    "    print(\"second\")\n",
    "    yield x-y\n",
    "    print(\"third\")\n",
    "    yield x*y\n",
    "res1=fun(10,20)\n",
    "print(\"res1=\",res1)\n",
    "for i in res1: # next(res1), next(res1), next(res1), next(res1)\n",
    "    print(\"i=\",i)\n",
    "print(\"ended\")"
   ]
  },
  {
   "cell_type": "code",
   "execution_count": 24,
   "metadata": {},
   "outputs": [
    {
     "name": "stdout",
     "output_type": "stream",
     "text": [
      "1\n",
      "2\n",
      "3\n",
      "4\n",
      "*****************\n",
      "1\n",
      "2\n",
      "3\n",
      "4\n"
     ]
    }
   ],
   "source": [
    "def fun():\n",
    "    return [1,2,3,4]\n",
    "def fun1():\n",
    "    yield 1\n",
    "    yield 2\n",
    "    yield 3\n",
    "    yield 4\n",
    "res=fun()\n",
    "for i in res:\n",
    "    print(i)\n",
    "print(\"*****************\")\n",
    "res1=fun1()\n",
    "for i in res1:\n",
    "    print(i)"
   ]
  },
  {
   "cell_type": "code",
   "execution_count": 25,
   "metadata": {},
   "outputs": [
    {
     "ename": "IndentationError",
     "evalue": "expected an indented block (<ipython-input-25-9a1273b5e20b>, line 3)",
     "output_type": "error",
     "traceback": [
      "\u001b[1;36m  File \u001b[1;32m\"<ipython-input-25-9a1273b5e20b>\"\u001b[1;36m, line \u001b[1;32m3\u001b[0m\n\u001b[1;33m    print(\"hello\")\u001b[0m\n\u001b[1;37m    ^\u001b[0m\n\u001b[1;31mIndentationError\u001b[0m\u001b[1;31m:\u001b[0m expected an indented block\n"
     ]
    }
   ],
   "source": [
    "def add():\n",
    "\n",
    "print(\"hello\")"
   ]
  },
  {
   "cell_type": "code",
   "execution_count": 26,
   "metadata": {},
   "outputs": [
    {
     "name": "stdout",
     "output_type": "stream",
     "text": [
      "hello\n"
     ]
    }
   ],
   "source": [
    "def add():\n",
    "    pass\n",
    "print(\"hello\")"
   ]
  },
  {
   "cell_type": "code",
   "execution_count": null,
   "metadata": {},
   "outputs": [],
   "source": [
    "def prnt(): # \n",
    "    # this function has to print the given values\n",
    "    \n",
    "prnt()\n",
    "prnt(1)\n",
    "prnt(1,2)\n",
    "prnt(1,2,3)\n",
    "prnt(1,2,3,4)\n",
    "prnt(1,2,3,4,5)"
   ]
  },
  {
   "cell_type": "code",
   "execution_count": 27,
   "metadata": {},
   "outputs": [
    {
     "name": "stdout",
     "output_type": "stream",
     "text": [
      "10 20\n"
     ]
    }
   ],
   "source": [
    "def fun(x,y):\n",
    "    print(x,y)\n",
    "fun(10,20)"
   ]
  },
  {
   "cell_type": "code",
   "execution_count": 28,
   "metadata": {},
   "outputs": [
    {
     "ename": "TypeError",
     "evalue": "fun() missing 1 required positional argument: 'y'",
     "output_type": "error",
     "traceback": [
      "\u001b[1;31m---------------------------------------------------------------------------\u001b[0m",
      "\u001b[1;31mTypeError\u001b[0m                                 Traceback (most recent call last)",
      "\u001b[1;32m<ipython-input-28-ab68ba923335>\u001b[0m in \u001b[0;36m<module>\u001b[1;34m\u001b[0m\n\u001b[0;32m      1\u001b[0m \u001b[1;32mdef\u001b[0m \u001b[0mfun\u001b[0m\u001b[1;33m(\u001b[0m\u001b[0mx\u001b[0m\u001b[1;33m,\u001b[0m\u001b[0my\u001b[0m\u001b[1;33m)\u001b[0m\u001b[1;33m:\u001b[0m\u001b[1;33m\u001b[0m\u001b[1;33m\u001b[0m\u001b[0m\n\u001b[0;32m      2\u001b[0m     \u001b[0mprint\u001b[0m\u001b[1;33m(\u001b[0m\u001b[0mx\u001b[0m\u001b[1;33m,\u001b[0m\u001b[0my\u001b[0m\u001b[1;33m)\u001b[0m\u001b[1;33m\u001b[0m\u001b[1;33m\u001b[0m\u001b[0m\n\u001b[1;32m----> 3\u001b[1;33m \u001b[0mfun\u001b[0m\u001b[1;33m(\u001b[0m\u001b[1;36m10\u001b[0m\u001b[1;33m)\u001b[0m\u001b[1;33m\u001b[0m\u001b[1;33m\u001b[0m\u001b[0m\n\u001b[0m",
      "\u001b[1;31mTypeError\u001b[0m: fun() missing 1 required positional argument: 'y'"
     ]
    }
   ],
   "source": [
    "def fun(x,y):\n",
    "    print(x,y)\n",
    "fun(10)"
   ]
  },
  {
   "cell_type": "code",
   "execution_count": 29,
   "metadata": {},
   "outputs": [
    {
     "ename": "TypeError",
     "evalue": "fun() takes 2 positional arguments but 3 were given",
     "output_type": "error",
     "traceback": [
      "\u001b[1;31m---------------------------------------------------------------------------\u001b[0m",
      "\u001b[1;31mTypeError\u001b[0m                                 Traceback (most recent call last)",
      "\u001b[1;32m<ipython-input-29-0d2f0d43d43e>\u001b[0m in \u001b[0;36m<module>\u001b[1;34m\u001b[0m\n\u001b[0;32m      1\u001b[0m \u001b[1;32mdef\u001b[0m \u001b[0mfun\u001b[0m\u001b[1;33m(\u001b[0m\u001b[0mx\u001b[0m\u001b[1;33m,\u001b[0m\u001b[0my\u001b[0m\u001b[1;33m)\u001b[0m\u001b[1;33m:\u001b[0m\u001b[1;33m\u001b[0m\u001b[1;33m\u001b[0m\u001b[0m\n\u001b[0;32m      2\u001b[0m     \u001b[0mprint\u001b[0m\u001b[1;33m(\u001b[0m\u001b[0mx\u001b[0m\u001b[1;33m,\u001b[0m\u001b[0my\u001b[0m\u001b[1;33m)\u001b[0m\u001b[1;33m\u001b[0m\u001b[1;33m\u001b[0m\u001b[0m\n\u001b[1;32m----> 3\u001b[1;33m \u001b[0mfun\u001b[0m\u001b[1;33m(\u001b[0m\u001b[1;36m10\u001b[0m\u001b[1;33m,\u001b[0m\u001b[1;36m20\u001b[0m\u001b[1;33m,\u001b[0m\u001b[1;36m30\u001b[0m\u001b[1;33m)\u001b[0m\u001b[1;33m\u001b[0m\u001b[1;33m\u001b[0m\u001b[0m\n\u001b[0m",
      "\u001b[1;31mTypeError\u001b[0m: fun() takes 2 positional arguments but 3 were given"
     ]
    }
   ],
   "source": [
    "def fun(x,y):\n",
    "    print(x,y)\n",
    "fun(10,20,30)"
   ]
  },
  {
   "cell_type": "code",
   "execution_count": 30,
   "metadata": {},
   "outputs": [
    {
     "name": "stdout",
     "output_type": "stream",
     "text": [
      "x=10,y=0\n",
      "x=10,y=20\n"
     ]
    }
   ],
   "source": [
    "def fun(x,y=0): # default parameters\n",
    "    print(f\"x={x},y={y}\")\n",
    "fun(10)\n",
    "fun(10,20)"
   ]
  },
  {
   "cell_type": "code",
   "execution_count": 31,
   "metadata": {},
   "outputs": [
    {
     "name": "stdout",
     "output_type": "stream",
     "text": [
      "x=10,y=\n",
      "x=10,y=20\n"
     ]
    }
   ],
   "source": [
    "def fun(x,y=\"\"): # default parameters\n",
    "    print(f\"x={x},y={y}\")\n",
    "fun(10)\n",
    "fun(10,20)"
   ]
  },
  {
   "cell_type": "code",
   "execution_count": 32,
   "metadata": {},
   "outputs": [
    {
     "name": "stdout",
     "output_type": "stream",
     "text": [
      "x=,y=,z=\n",
      "x=10,y=,z=\n",
      "x=10,y=20,z=\n",
      "x=10,y=20,z=30\n"
     ]
    }
   ],
   "source": [
    "def fun(x=\"\",y=\"\",z=\"\"): # default parameters\n",
    "    print(f\"x={x},y={y},z={z}\")\n",
    "fun()\n",
    "fun(10)\n",
    "fun(10,20)\n",
    "fun(10,20,30)"
   ]
  },
  {
   "cell_type": "code",
   "execution_count": 33,
   "metadata": {},
   "outputs": [
    {
     "name": "stdout",
     "output_type": "stream",
     "text": [
      "x=,y=,z=\n",
      "x=10,y=,z=\n",
      "x=10,y=20,z=\n",
      "x=10,y=20,z=30\n"
     ]
    },
    {
     "ename": "TypeError",
     "evalue": "fun() takes from 0 to 3 positional arguments but 4 were given",
     "output_type": "error",
     "traceback": [
      "\u001b[1;31m---------------------------------------------------------------------------\u001b[0m",
      "\u001b[1;31mTypeError\u001b[0m                                 Traceback (most recent call last)",
      "\u001b[1;32m<ipython-input-33-b5c7b59248dd>\u001b[0m in \u001b[0;36m<module>\u001b[1;34m\u001b[0m\n\u001b[0;32m      5\u001b[0m \u001b[0mfun\u001b[0m\u001b[1;33m(\u001b[0m\u001b[1;36m10\u001b[0m\u001b[1;33m,\u001b[0m\u001b[1;36m20\u001b[0m\u001b[1;33m)\u001b[0m\u001b[1;33m\u001b[0m\u001b[1;33m\u001b[0m\u001b[0m\n\u001b[0;32m      6\u001b[0m \u001b[0mfun\u001b[0m\u001b[1;33m(\u001b[0m\u001b[1;36m10\u001b[0m\u001b[1;33m,\u001b[0m\u001b[1;36m20\u001b[0m\u001b[1;33m,\u001b[0m\u001b[1;36m30\u001b[0m\u001b[1;33m)\u001b[0m\u001b[1;33m\u001b[0m\u001b[1;33m\u001b[0m\u001b[0m\n\u001b[1;32m----> 7\u001b[1;33m \u001b[0mfun\u001b[0m\u001b[1;33m(\u001b[0m\u001b[1;36m10\u001b[0m\u001b[1;33m,\u001b[0m\u001b[1;36m20\u001b[0m\u001b[1;33m,\u001b[0m\u001b[1;36m30\u001b[0m\u001b[1;33m,\u001b[0m\u001b[1;36m40\u001b[0m\u001b[1;33m)\u001b[0m\u001b[1;33m\u001b[0m\u001b[1;33m\u001b[0m\u001b[0m\n\u001b[0m",
      "\u001b[1;31mTypeError\u001b[0m: fun() takes from 0 to 3 positional arguments but 4 were given"
     ]
    }
   ],
   "source": [
    "def fun(x=\"\",y=\"\",z=\"\"): # default parameters\n",
    "    print(f\"x={x},y={y},z={z}\")\n",
    "fun()\n",
    "fun(10)\n",
    "fun(10,20)\n",
    "fun(10,20,30)\n",
    "fun(10,20,30,40)"
   ]
  },
  {
   "cell_type": "code",
   "execution_count": 34,
   "metadata": {},
   "outputs": [
    {
     "name": "stdout",
     "output_type": "stream",
     "text": [
      "() <class 'tuple'>\n",
      "(10,) <class 'tuple'>\n",
      "(10, 20) <class 'tuple'>\n",
      "(10, 20, 30) <class 'tuple'>\n",
      "(10, 20, 30, 40) <class 'tuple'>\n"
     ]
    }
   ],
   "source": [
    "def fun(*k): # *args\n",
    "    print(k, type(k))\n",
    "fun()\n",
    "fun(10)\n",
    "fun(10,20)\n",
    "fun(10,20,30)\n",
    "fun(10,20,30,40)"
   ]
  },
  {
   "cell_type": "code",
   "execution_count": 35,
   "metadata": {},
   "outputs": [
    {
     "name": "stdout",
     "output_type": "stream",
     "text": [
      "name=Jay,age=3,pan=None,adhar=None\n",
      "name=vedha,age=2,pan=None,adhar=adhar_1234\n",
      "name=Sai,age=32,pan=pan_123,adhar=None\n"
     ]
    }
   ],
   "source": [
    "def person(name,age,adhar=None,pan=None):# name,age are mandatory parameters. Adhar and pan are optional parameters.\n",
    "    print(f\"name={name},age={age},pan={pan},adhar={adhar}\")\n",
    "    \n",
    "person(\"Jay\",3)\n",
    "person(\"vedha\",2,\"adhar_1234\")\n",
    "person(\"Sai\",32,None,\"pan_123\")# positional arguments"
   ]
  },
  {
   "cell_type": "code",
   "execution_count": 36,
   "metadata": {},
   "outputs": [],
   "source": [
    "import pandas as pd\n",
    "pd.read_csv?"
   ]
  },
  {
   "cell_type": "code",
   "execution_count": 37,
   "metadata": {},
   "outputs": [
    {
     "name": "stdout",
     "output_type": "stream",
     "text": [
      "name=Jay,age=3,pan=None,adhar=None\n",
      "name=vedha,age=2,pan=None,adhar=adhar_1234\n",
      "name=Sai,age=32,pan=pan_123,adhar=None\n",
      "name=Samba,age=32,pan=pan_456,adhar=None\n"
     ]
    }
   ],
   "source": [
    "def person(name,age,adhar=None,pan=None):# name,age are mandatory parameters. Adhar and pan are optional parameters.\n",
    "    print(f\"name={name},age={age},pan={pan},adhar={adhar}\")\n",
    "    \n",
    "person(\"Jay\",3)\n",
    "person(\"vedha\",2,\"adhar_1234\")\n",
    "person(\"Sai\",32,None,\"pan_123\")# positional arguments\n",
    "person(\"Samba\",32,pan=\"pan_456\") # pan is called as keyword argument. \"Samba\",32 is called positional arguments"
   ]
  },
  {
   "cell_type": "code",
   "execution_count": 38,
   "metadata": {},
   "outputs": [
    {
     "name": "stdout",
     "output_type": "stream",
     "text": [
      "name=Jay,age=3,pan=None,adhar=None\n",
      "name=vedha,age=2,pan=None,adhar=adhar_1234\n",
      "name=Sai,age=32,pan=pan_123,adhar=None\n",
      "name=Samba,age=32,pan=pan_456,adhar=None\n",
      "name=Ram,age=32,pan=pan_256,adhar=adhar_678\n"
     ]
    }
   ],
   "source": [
    "def person(name,age,adhar=None,pan=None):# name,age are mandatory parameters. Adhar and pan are optional parameters.\n",
    "    print(f\"name={name},age={age},pan={pan},adhar={adhar}\")\n",
    "    \n",
    "person(\"Jay\",3)\n",
    "person(\"vedha\",2,\"adhar_1234\")\n",
    "person(\"Sai\",32,None,\"pan_123\")# positional arguments\n",
    "person(\"Samba\",32,pan=\"pan_456\") # pan is called as keyword argument. \"Samba\",32 is called positional arguments\n",
    "# best approach to call any function\n",
    "person(name=\"Ram\",age=32,pan=\"pan_256\",adhar=\"adhar_678\")"
   ]
  },
  {
   "cell_type": "code",
   "execution_count": 39,
   "metadata": {},
   "outputs": [
    {
     "name": "stdout",
     "output_type": "stream",
     "text": [
      "name=Jay,age=3,pan=None,adhar=None\n",
      "name=vedha,age=2,pan=None,adhar=adhar_1234\n",
      "name=Sai,age=32,pan=pan_123,adhar=None\n",
      "name=Samba,age=32,pan=pan_456,adhar=None\n",
      "name=Ram,age=32,pan=pan_256,adhar=adhar_678\n",
      "name=Sufharshan,age=30,pan=pan_2345,adhar=adhar_234\n"
     ]
    }
   ],
   "source": [
    "def person(name,age,adhar=None,pan=None):# name,age are mandatory parameters. Adhar and pan are optional parameters.\n",
    "    print(f\"name={name},age={age},pan={pan},adhar={adhar}\")\n",
    "    \n",
    "person(\"Jay\",3)\n",
    "person(\"vedha\",2,\"adhar_1234\")\n",
    "person(\"Sai\",32,None,\"pan_123\")# positional arguments\n",
    "person(\"Samba\",32,pan=\"pan_456\") # pan is called as keyword argument. \"Samba\",32 is called positional arguments\n",
    "# best approach to call any function\n",
    "person(name=\"Ram\",age=32,pan=\"pan_256\",adhar=\"adhar_678\")\n",
    "person(adhar=\"adhar_234\",pan=\"pan_2345\",name=\"Sudharshan\",age=30)"
   ]
  },
  {
   "cell_type": "code",
   "execution_count": 40,
   "metadata": {},
   "outputs": [
    {
     "ename": "TypeError",
     "evalue": "person() missing 1 required positional argument: 'age'",
     "output_type": "error",
     "traceback": [
      "\u001b[1;31m---------------------------------------------------------------------------\u001b[0m",
      "\u001b[1;31mTypeError\u001b[0m                                 Traceback (most recent call last)",
      "\u001b[1;32m<ipython-input-40-7a062be920d1>\u001b[0m in \u001b[0;36m<module>\u001b[1;34m\u001b[0m\n\u001b[0;32m      1\u001b[0m \u001b[1;32mdef\u001b[0m \u001b[0mperson\u001b[0m\u001b[1;33m(\u001b[0m\u001b[0mname\u001b[0m\u001b[1;33m,\u001b[0m\u001b[0mage\u001b[0m\u001b[1;33m,\u001b[0m\u001b[0madhar\u001b[0m\u001b[1;33m=\u001b[0m\u001b[1;32mNone\u001b[0m\u001b[1;33m,\u001b[0m\u001b[0mpan\u001b[0m\u001b[1;33m=\u001b[0m\u001b[1;32mNone\u001b[0m\u001b[1;33m)\u001b[0m\u001b[1;33m:\u001b[0m\u001b[1;31m# name,age are mandatory parameters. Adhar and pan are optional parameters.\u001b[0m\u001b[1;33m\u001b[0m\u001b[1;33m\u001b[0m\u001b[0m\n\u001b[0;32m      2\u001b[0m     \u001b[0mprint\u001b[0m\u001b[1;33m(\u001b[0m\u001b[1;34mf\"name={name},age={age},pan={pan},adhar={adhar}\"\u001b[0m\u001b[1;33m)\u001b[0m\u001b[1;33m\u001b[0m\u001b[1;33m\u001b[0m\u001b[0m\n\u001b[1;32m----> 3\u001b[1;33m \u001b[0mperson\u001b[0m\u001b[1;33m(\u001b[0m\u001b[0mname\u001b[0m\u001b[1;33m=\u001b[0m\u001b[1;34m\"Sai\"\u001b[0m\u001b[1;33m)\u001b[0m\u001b[1;33m\u001b[0m\u001b[1;33m\u001b[0m\u001b[0m\n\u001b[0m",
      "\u001b[1;31mTypeError\u001b[0m: person() missing 1 required positional argument: 'age'"
     ]
    }
   ],
   "source": [
    "def person(name,age,adhar=None,pan=None):# name,age are mandatory parameters. Adhar and pan are optional parameters.\n",
    "    print(f\"name={name},age={age},pan={pan},adhar={adhar}\")\n",
    "person(name=\"Sai\")"
   ]
  },
  {
   "cell_type": "code",
   "execution_count": 42,
   "metadata": {},
   "outputs": [
    {
     "ename": "TypeError",
     "evalue": "person() got an unexpected keyword argument 'citizenshipId'",
     "output_type": "error",
     "traceback": [
      "\u001b[1;31m---------------------------------------------------------------------------\u001b[0m",
      "\u001b[1;31mTypeError\u001b[0m                                 Traceback (most recent call last)",
      "\u001b[1;32m<ipython-input-42-8680f9c37be9>\u001b[0m in \u001b[0;36m<module>\u001b[1;34m\u001b[0m\n\u001b[0;32m      1\u001b[0m \u001b[1;32mdef\u001b[0m \u001b[0mperson\u001b[0m\u001b[1;33m(\u001b[0m\u001b[0mname\u001b[0m\u001b[1;33m,\u001b[0m\u001b[0mage\u001b[0m\u001b[1;33m,\u001b[0m\u001b[0madhar\u001b[0m\u001b[1;33m=\u001b[0m\u001b[1;32mNone\u001b[0m\u001b[1;33m,\u001b[0m\u001b[0mpan\u001b[0m\u001b[1;33m=\u001b[0m\u001b[1;32mNone\u001b[0m\u001b[1;33m)\u001b[0m\u001b[1;33m:\u001b[0m\u001b[1;33m\u001b[0m\u001b[1;33m\u001b[0m\u001b[0m\n\u001b[0;32m      2\u001b[0m     \u001b[0mprint\u001b[0m\u001b[1;33m(\u001b[0m\u001b[1;34mf\"name={name},age={age},pan={pan},adhar={adhar}\"\u001b[0m\u001b[1;33m)\u001b[0m\u001b[1;33m\u001b[0m\u001b[1;33m\u001b[0m\u001b[0m\n\u001b[1;32m----> 3\u001b[1;33m \u001b[0mperson\u001b[0m\u001b[1;33m(\u001b[0m\u001b[0mname\u001b[0m\u001b[1;33m=\u001b[0m\u001b[1;34m\"Sai\"\u001b[0m\u001b[1;33m,\u001b[0m \u001b[0mcitizenshipId\u001b[0m\u001b[1;33m=\u001b[0m\u001b[1;34m\"city_123\"\u001b[0m\u001b[1;33m)\u001b[0m\u001b[1;33m\u001b[0m\u001b[1;33m\u001b[0m\u001b[0m\n\u001b[0m",
      "\u001b[1;31mTypeError\u001b[0m: person() got an unexpected keyword argument 'citizenshipId'"
     ]
    }
   ],
   "source": [
    "def person(name,age,adhar=None,pan=None):\n",
    "    print(f\"name={name},age={age},pan={pan},adhar={adhar}\")\n",
    "person(name=\"Sai\", citizenshipId=\"city_123\")"
   ]
  },
  {
   "cell_type": "code",
   "execution_count": 44,
   "metadata": {},
   "outputs": [
    {
     "name": "stdout",
     "output_type": "stream",
     "text": [
      "name=Sai,age=23,pan=None,adhar=None,context={'citizenshipId': 'city_123'}\n"
     ]
    }
   ],
   "source": [
    "def person(name,age,adhar=None,pan=None,**context):#**kwargs\n",
    "    print(f\"name={name},age={age},pan={pan},adhar={adhar},context={context}\")\n",
    "person(name=\"Sai\", citizenshipId=\"city_123\", age=23)"
   ]
  },
  {
   "cell_type": "code",
   "execution_count": 45,
   "metadata": {},
   "outputs": [
    {
     "name": "stdout",
     "output_type": "stream",
     "text": [
      "name=Sai,age=23,pan=None,adhar=None,context={'citizenshipId': 'city_123', 'drivinglicense': '1421', 'passport': 'sfdsdf'}\n"
     ]
    }
   ],
   "source": [
    "def person(name,age,adhar=None,pan=None,**context):#**kwargs\n",
    "    print(f\"name={name},age={age},pan={pan},adhar={adhar},context={context}\")\n",
    "person(name=\"Sai\", citizenshipId=\"city_123\", age=23,drivinglicense=\"1421\",passport=\"sfdsdf\")"
   ]
  },
  {
   "cell_type": "code",
   "execution_count": null,
   "metadata": {},
   "outputs": [],
   "source": [
    "# mandatory, default, *args, **kwargs, "
   ]
  }
 ],
 "metadata": {
  "kernelspec": {
   "display_name": "Python 3",
   "language": "python",
   "name": "python3"
  },
  "language_info": {
   "codemirror_mode": {
    "name": "ipython",
    "version": 3
   },
   "file_extension": ".py",
   "mimetype": "text/x-python",
   "name": "python",
   "nbconvert_exporter": "python",
   "pygments_lexer": "ipython3",
   "version": "3.8.3"
  }
 },
 "nbformat": 4,
 "nbformat_minor": 4
}
